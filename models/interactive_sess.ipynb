{
 "cells": [
  {
   "cell_type": "code",
   "execution_count": null,
   "metadata": {
    "collapsed": false,
    "deletable": true,
    "editable": true
   },
   "outputs": [],
   "source": [
    "import numpy as np\n",
    "import tensorflow as tf\n",
    "from functools import reduce\n",
    "import matplotlib.pyplot as plt\n",
    "import random\n",
    "\n",
    "gloabal_seed = round(random.random()*100000)"
   ]
  },
  {
   "cell_type": "code",
   "execution_count": null,
   "metadata": {
    "collapsed": false,
    "deletable": true,
    "editable": true
   },
   "outputs": [],
   "source": [
    "np.random.seed(gloabal_seed)\n",
    "tf.set_random_seed(gloabal_seed)\n",
    "sess = tf.InteractiveSession()\n",
    "num_features = 3\n",
    "num_samples = 5\n",
    "state_size = 4\n",
    "num_of_operations = 3\n",
    "batch_size = num_samples\n",
    "max_num_features = 10\n",
    "datatype = tf.float64\n",
    "\n",
    "\n",
    "#model placeholders\n",
    "batchX_placeholder = tf.placeholder(datatype, [batch_size, None], name=\"batchX\")\n",
    "batchY_placeholder = tf.placeholder(datatype, [batch_size, None], name=\"batchY\")\n",
    "\n",
    "def add(vec):\n",
    "    return reduce((lambda x, y: x + y),vec)\n",
    "\n",
    "def samples_generator(fn, shape, rng, seed=None):\n",
    "    '''\n",
    "    Generate random samples for the model:\n",
    "    @fn - function to be applied on the input features to get the ouput\n",
    "    @shape - shape of the features matrix (num_samples, num_features)\n",
    "    @rng - range of the input features to be generated within (a,b)\n",
    "    @seed  - generation seed\n",
    "    Outputs a tuple of input and output features matrix\n",
    "    '''\n",
    "    x = (rng[1] - rng[0]) * np.random.random_sample(shape) + rng[0]\n",
    "    y = np.apply_along_axis(fn, 1, x).reshape((shape[0],-1))\n",
    "    z = np.zeros((shape[0],shape[1] - y.shape[1]))\n",
    "    y = np.concatenate((y, z), axis=1)\n",
    "    j = -1\n",
    "    for i,x_i in enumerate(x):\n",
    "        j = j +1 \n",
    "        if j > num_features -1: j = 0\n",
    "        print(i,j)\n",
    "        x[i,j] = 0\n",
    "\n",
    "\n",
    "    return x,y\n",
    "\n",
    "\n",
    "_x,_y = samples_generator(add, (num_samples, num_features) , (0, 100))\n",
    "\n",
    "def tf_multiply(inpt):\n",
    "    return tf.reshape( tf.reduce_prod(inpt, axis = 1), [batch_size, -1])\n",
    "num_features\n",
    "def tf_add(inpt):\n",
    "    return  tf.reshape( tf.reduce_sum(inpt, axis = 1), [batch_size, -1])\n",
    "\n",
    "def tf_stall(a):\n",
    "    return a\n",
    "\n",
    "W_te = tf.Variable(tf.truncated_normal([state_size, num_of_operations], -1*5, 5, dtype=datatype),dtype=datatype, name=\"W2\")\n",
    "\n",
    "x = tf.Variable(_x, dtype=datatype)\n",
    "y = tf.Variable(_y, dtype=datatype)\n",
    "W_te.initializer.run()\n",
    "x.initializer.run()\n",
    "y.initializer.run()\n",
    "\n",
    "gloabal_seed"
   ]
  },
  {
   "cell_type": "code",
   "execution_count": null,
   "metadata": {
    "collapsed": false,
    "deletable": true,
    "editable": true
   },
   "outputs": [],
   "source": [
    "x.eval()"
   ]
  },
  {
   "cell_type": "code",
   "execution_count": null,
   "metadata": {
    "collapsed": false,
    "deletable": true,
    "editable": true
   },
   "outputs": [],
   "source": [
    "def not_zero(inpt, pinpt=None):\n",
    "        greater = tf.greater(inpt,tf.zeros_like(inpt, dtype=datatype))\n",
    "        less = tf.less(inpt, tf.zeros_like(inpt, dtype=datatype))\n",
    "        not_zero = tf.logical_or(greater, less)\n",
    "        return not_zero\n",
    "\n",
    "\n",
    "def tf_multiply(inpt, pinpt=None):\n",
    "        result = tf.reduce_prod(inpt, axis = 1, name = \"tf_mult\")\n",
    "        reshape = tf.reshape(result , [batch_size, -1], name = \"tf_mult_reshape\")\n",
    "        pad_res = tf.pad(reshape, [[0,0],[0,num_features - 1]], \"CONSTANT\", name=\"tf_mult_pad\")\n",
    "        return pad_res\n",
    "\n",
    "def tf_divide(inpt, pinpt=None):\n",
    "        repriocal = tf.reciprocal(inpt)\n",
    "        reg_slice = tf.slice(inpt, [0,0], [batch_size,1])\n",
    "        repr_slice = tf.slice(repriocal, [0,1], [batch_size,num_features-1])\n",
    "        intp  = tf.concat([reg_slice, repr_slice],1)\n",
    "        masked_ones = tf.where(tf.is_inf(intp), tf.ones_like(inpt, dtype=datatype), intp)\n",
    "        return tf_multiply(masked_ones)\n",
    "\n",
    "\n",
    "\n",
    "equl = tf_divide(x)\n",
    "equl.eval()"
   ]
  },
  {
   "cell_type": "code",
   "execution_count": null,
   "metadata": {
    "collapsed": false,
    "deletable": true,
    "editable": true
   },
   "outputs": [],
   "source": [
    "add    = tf_add(x)\n",
    "mult   = tf_multiply(x)\n",
    "stall  = tf_stall(x)\n",
    "values = tf.concat([add, mult, stall], 1)\n",
    "#print(values.eval())\n",
    "#padding = tf.constant()\n",
    "print(add.eval())\n",
    "print(mult.eval())\n",
    "print(stall.eval())"
   ]
  },
  {
   "cell_type": "code",
   "execution_count": null,
   "metadata": {
    "collapsed": false,
    "deletable": true,
    "editable": true
   },
   "outputs": [],
   "source": [
    "init_state = tf.Variable(np.zeros([batch_size, state_size]), dtype=datatype)\n",
    "argmax_dum = tf.Variable([2, 2, 2, 2, 2, 2, 2, 2, 2, 0, 2, 2, 2, 2, 2, 2, 2, 2, 2, 1, 2, 2, 2, 2, 2, 2, 2, 2, 2, 2],  dtype=datatype)\n",
    "W = tf.Variable(np.random.rand(state_size+num_features, state_size), dtype=datatype)\n",
    "b = tf.Variable(np.zeros((state_size)), dtype=datatype)\n",
    "\n",
    "W2 = tf.Variable(np.random.rand(state_size, num_of_operations),dtype=datatype)\n",
    "b2 = tf.Variable(np.zeros((num_of_operations)), dtype=datatype)\n",
    "\n",
    "dummy_matrix = tf.zeros([batch_size, num_features], datatype, name=\"dummy_constant\")\n",
    "\n",
    "init_state.initializer.run()\n",
    "argmax_dum.initializer.run()\n",
    "W.initializer.run()\n",
    "b.initializer.run()\n",
    "W2.initializer.run()\n",
    "b2.initializer.run()\n",
    "#dummy_matrix.initializer.run()\n",
    "\n",
    "current_state = init_state\n",
    "current_input = x\n",
    "      \n",
    "input_and_state_concatenated = tf.concat([current_input, current_state], 1)  # Increasing number of columns\n",
    "next_state = tf.tanh(tf.matmul(input_and_state_concatenated, W) + b)  # Broadcasted addition\n",
    "current_state = next_state\n",
    "    \n",
    "    #calculate softmax and produce the mask of operations\n",
    "logits  = tf.matmul(next_state, W2) + b2 #Broadcasted addition\n",
    "softmax = tf.nn.softmax(logits)\n",
    "softmax_10000 = tf.nn.softmax(logits)\n",
    "softplus = tf.nn.softplus(logits)\n",
    "softsign = tf.nn.softsign(logits)\n",
    "argmax  = tf.argmax(softmax, 1)\n",
    "\n",
    "#lengths_transposed = tf.expand_dims(argmax, 0)\n",
    "#onehot  = tf.one_hot(argmax, num_of_operations)\n",
    "stall_width = tf.shape(stall)[1] - 1 \n",
    "stall_select = tf.slice(softmax, [0,2], [batch_size,1])\n",
    "multiples = [1, stall_width]\n",
    "stall_mask = tf.tile(stall_select, multiples)\n",
    "mask = tf.concat([softmax, stall_mask], 1)\n",
    "#mask = tf.cast(mask, tf.bool)\n",
    "#apply mask\n",
    "#output = tf.boolean_mask(values,mask)\n",
    "output = values * mask\n",
    "nn_soft = tf.nn.softmax(logits)\n",
    "output_width = tf.shape(output)[1]\n",
    "#zeros_slice = tf.slice(dummy_matrix, [0,0], [batch_size, max_num_features - output_width])\n",
    "#dum_plus_input = tf.concat([output, zeros_slice], 1)\n",
    "#print(dum_plus_input.eval())\n",
    "\n",
    "'''\n",
    "print(x.eval())\n",
    "print(\"stall_select\")\n",
    "print(stall_select.eval())\n",
    "print(\"mask\")\n",
    "print(mask.eval())\n",
    "print(\"logits\")\n",
    "print(logits.eval())\n",
    "print(\"softmax\")\n",
    "print(softmax.eval())\n",
    "print(\"softplus\")\n",
    "print(softplus.eval())\n",
    "print(\"softsign\")\n",
    "print(softsign.eval())\n",
    "print(\"softmax*10000\")\n",
    "print(softmax_10000.eval())\n",
    "print(\"onehot\")\n",
    "print(onehot.eval())\n",
    "'''\n",
    "#print(mask.eval())\n",
    "#print(mask.eval())\n",
    "#print(output.eval())\n",
    "print(softmax.eval())"
   ]
  },
  {
   "cell_type": "code",
   "execution_count": null,
   "metadata": {
    "collapsed": false,
    "deletable": true,
    "editable": true
   },
   "outputs": [],
   "source": [
    "add_softmax   = tf.slice(softmax, [0,0], [batch_size,1])\n",
    "mult_softmax  = tf.slice(softmax, [0,1], [batch_size,1])\n",
    "stall_softmax = tf.slice(softmax, [0,2], [batch_size,1])\n",
    "\n",
    "'''\n",
    "print(add_softmax.eval())\n",
    "print(mult_softmax.eval())\n",
    "print(stall_softmax.eval())\n",
    "'''\n",
    "print(softmax.eval())\n",
    "print(softmax[1].eval())\n",
    "print(softmax[2].eval())\n",
    "\n",
    "add_width   = tf.shape(add)[1]\n",
    "mult_width  = tf.shape(mult)[1]\n",
    "stall_width = tf.shape(stall)[1]\n",
    "\n",
    "add_final = tf.pad(add, [[0,0],[0,num_features - add_width]], \"CONSTANT\") \n",
    "mult_final = tf.pad(mult, [[0,0],[0,num_features - mult_width]], \"CONSTANT\") \n",
    "stall_final = tf.pad(stall, [[0,0],[0,num_features - stall_width]], \"CONSTANT\")\n",
    "\n",
    "#print(softmax.eval())\n",
    "\n",
    "print(add_final.eval())\n",
    "print(mult_final.eval())\n",
    "print(stall_final.eval())\n",
    "\n",
    "#tf.multiply()\n",
    "add_final   = tf.multiply(add_final, softmax[0])\n",
    "mult_final  = tf.multiply(mult_final, softmax[1])\n",
    "stall_final = tf.multiply(stall_final, softmax[2])\n",
    "\n",
    "print(add_final.eval())\n",
    "print(mult_final.eval())\n",
    "print(stall_final.eval())"
   ]
  },
  {
   "cell_type": "code",
   "execution_count": null,
   "metadata": {
    "collapsed": false,
    "deletable": true,
    "editable": true
   },
   "outputs": [],
   "source": [
    "add_width   = tf.shape(add)[1]\n",
    "mult_width  = tf.shape(mult)[1]\n",
    "stall_width = tf.shape(stall)[1]\n",
    "\n",
    "\n",
    "add_final   = add * add_softmax\n",
    "mult_final  = mult * mult_softmax\n",
    "stall_final = stall * stall_softmax\n",
    "\n",
    "##conact add and mult results with zeros matrix\n",
    "add_final = tf.concat([add_final, tf.slice(dummy_matrix, [0,0], [batch_size, num_features - add_width])], 1) \n",
    "mult_final = tf.concat([mult_final, tf.slice(dummy_matrix, [0,0], [batch_size, num_features - mult_width])], 1) \n",
    "\n",
    "output_final = add_final + mult_final + stall_final \n",
    "\n",
    "print(add_width.eval())\n",
    "print(mult_width.eval())\n",
    "print(stall_width.eval())\n",
    "\n",
    "\n",
    "print(add.eval())\n",
    "print(mult.eval())\n",
    "print(stall.eval())\n",
    "\n",
    "print(add_softmax.eval())\n",
    "print(mult_softmax.eval())\n",
    "print(stall_softmax.eval())\n",
    "\n",
    "print(add_final.eval())\n",
    "print(mult_final.eval())\n",
    "print(stall_final.eval())\n",
    "\n",
    "print(output_final.eval())"
   ]
  },
  {
   "cell_type": "code",
   "execution_count": null,
   "metadata": {
    "collapsed": false,
    "deletable": true,
    "editable": true
   },
   "outputs": [],
   "source": [
    "\n",
    "def custom_softmax(inpt):\n",
    "    sum_exponents = tf.reduce_sum(tf.exp(inpt), axis = 1)\n",
    "    soft_max = tf.log(sum_exponents)\n",
    "    soft_max = tf.reshape( soft_max, [batch_size, -1])\n",
    "    print(soft_max.eval())\n",
    "    matrix_width = tf.cast(tf.shape(inpt)[1], tf.int32)\n",
    "    multiples = [1, matrix_width]\n",
    "    soft_max = tf.tile(soft_max, multiples)\n",
    "    return  tf.reshape( inpt / soft_max, [batch_size, -1])\n",
    "\n",
    "def custom_softmax2(inpt):\n",
    "    sum_exponents = tf.reduce_sum(tf.exp(inpt), axis = 1)\n",
    "    soft_max = sum_exponents\n",
    "    soft_max = tf.reshape( soft_max, [batch_size, -1])\n",
    "    print(soft_max.eval())\n",
    "    matrix_width = tf.cast(tf.shape(inpt)[1], tf.int32)\n",
    "    multiples = [1, matrix_width]\n",
    "    soft_max = tf.tile(soft_max, multiples)\n",
    "    return  tf.reshape( tf.exp(inpt) / soft_max, [batch_size, -1])\n",
    "x_cust = custom_softmax(x)\n",
    "x_cust2 = custom_softmax2(x)\n",
    "print(x.eval())\n",
    "#print(x_cust2.eval())\n",
    "print(tf.nn.softmax(x*10000).eval())"
   ]
  },
  {
   "cell_type": "code",
   "execution_count": null,
   "metadata": {
    "collapsed": false,
    "deletable": true,
    "editable": true
   },
   "outputs": [],
   "source": [
    "math_error = tf.multiply(tf.constant(0.5, dtype=datatype), tf.square(tf.subtract(tf.reduce_sum(output, axis = 1, name=\"red_output\") , batchY_placeholder, name=\"sub_otput_batchY\"), name=\"squar_error\"), name=\"mult_with_0.5\")\n",
    "\n",
    "total_loss = tf.reduce_sum(math_error, name=\"red_total_loss\")\n",
    "\n",
    "grads = tf.gradients(total_loss, [W,b,W2,b2], name=\"comp_gradients\")\n",
    "train_step = tf.train.AdamOptimizer(0.1, name=\"AdamOpt\").minimize(total_loss, name=\"min_loss\")"
   ]
  },
  {
   "cell_type": "code",
   "execution_count": null,
   "metadata": {
    "collapsed": false,
    "deletable": true,
    "editable": true
   },
   "outputs": [],
   "source": [
    "def calc_loss(output):\n",
    "    #reduced_output = tf.reshape( tf.reduce_sum(output, axis = 1, name=\"red_output\"), [batch_size, -1])\n",
    "    math_error = tf.multiply(tf.constant(0.5, dtype=datatype), tf.square(tf.subtract(output , y, name=\"sub_otput_batchY\"), name=\"squar_error\"), name=\"mult_with_0.5\")\n",
    "    \n",
    "                             \n",
    "    total_loss = tf.reduce_sum(math_error, name=\"red_total_loss\")\n",
    "    return total_loss, math_error\n",
    "\n",
    "\n",
    "loss, mathh = calc_loss(output_final)"
   ]
  },
  {
   "cell_type": "code",
   "execution_count": null,
   "metadata": {
    "collapsed": false,
    "deletable": true,
    "editable": true
   },
   "outputs": [],
   "source": [
    "mathh.eval()"
   ]
  },
  {
   "cell_type": "code",
   "execution_count": null,
   "metadata": {
    "collapsed": false,
    "deletable": true,
    "editable": true
   },
   "outputs": [],
   "source": [
    "prng = np.random.RandomState(1234)"
   ]
  },
  {
   "cell_type": "code",
   "execution_count": null,
   "metadata": {
    "collapsed": true,
    "deletable": true,
    "editable": true
   },
   "outputs": [],
   "source": []
  },
  {
   "cell_type": "code",
   "execution_count": null,
   "metadata": {
    "collapsed": true,
    "deletable": true,
    "editable": true
   },
   "outputs": [],
   "source": [
    "sess.close()"
   ]
  },
  {
   "cell_type": "code",
   "execution_count": null,
   "metadata": {
    "collapsed": false,
    "deletable": true,
    "editable": true
   },
   "outputs": [],
   "source": [
    "prng.random_sample((10,5))"
   ]
  },
  {
   "cell_type": "code",
   "execution_count": null,
   "metadata": {
    "collapsed": false,
    "deletable": true,
    "editable": true
   },
   "outputs": [],
   "source": [
    "_x[0:2]"
   ]
  },
  {
   "cell_type": "code",
   "execution_count": null,
   "metadata": {
    "collapsed": false,
    "deletable": true,
    "editable": true
   },
   "outputs": [],
   "source": [
    "q = tf.FIFOQueue(capacity=2, dtypes=datatype)\n",
    "q.enqueue(x)\n",
    "q.dequeue().eval()"
   ]
  },
  {
   "cell_type": "code",
   "execution_count": null,
   "metadata": {
    "collapsed": true,
    "deletable": true,
    "editable": true
   },
   "outputs": [],
   "source": [
    "for batch_idx in range(num_batches):\n",
    "            start_idx = batch_size * batch_idx\n",
    "            end_idx   = batch_size * batch_idx + batch_idx\n",
    "\n",
    "            batchX = x[start_idx:end_idx]\n",
    "            batchY = y[start_idx:end_idx]\n",
    "            "
   ]
  },
  {
   "cell_type": "code",
   "execution_count": null,
   "metadata": {
    "collapsed": true,
    "deletable": true,
    "editable": true
   },
   "outputs": [],
   "source": [
    "_x_ = tf.constant(_x, dtype=datatype, name=\"ROM\")\n"
   ]
  },
  {
   "cell_type": "code",
   "execution_count": null,
   "metadata": {
    "collapsed": false,
    "deletable": true,
    "editable": true
   },
   "outputs": [],
   "source": [
    "_x_.eval()"
   ]
  },
  {
   "cell_type": "code",
   "execution_count": 5,
   "metadata": {
    "collapsed": false,
    "deletable": true,
    "editable": true
   },
   "outputs": [
    {
     "data": {
      "text/plain": [
       "(array([[ 51.3534607 ,  70.83681137,  37.47179515],\n",
       "        [-64.86387894, -32.87338558, -72.83884452],\n",
       "        [-57.8064673 ,  40.68913001, -40.85745575],\n",
       "        ..., \n",
       "        [-79.60986662, -23.79039581,  45.75716762],\n",
       "        [ 92.82036198,  78.38356039,  63.43785783],\n",
       "        [-76.81243285,   5.86660098, -22.68334128]]),\n",
       " array([[ 53.22068907,   0.        ,   0.        ],\n",
       "        [-56.85870301,   0.        ,   0.        ],\n",
       "        [-19.32493101,   0.        ,   0.        ],\n",
       "        ..., \n",
       "        [-19.21436494,   0.        ,   0.        ],\n",
       "        [ 78.21392673,   0.        ,   0.        ],\n",
       "        [-31.20972439,   0.        ,   0.        ]]))"
      ]
     },
     "execution_count": 5,
     "metadata": {},
     "output_type": "execute_result"
    }
   ],
   "source": [
    "from ops import Operations\n",
    "import pickle\n",
    "from data_gen import samples_generator, split_train_test, np_avg_val\n",
    "import tensorflow as tf\n",
    "path = '/home/user/neural_program_synthesis/models/summaries/RNN/np_mult-5ops/200_state_size-1500_num_samples-100_batch_size-0.005_learning_rate-1000.0_grad_norm-3_num_features-True_norm-True_share_state-3388_seed/'\n",
    "#get the global configuration\n",
    "cfg_path = path+'cfg.p'\n",
    "cfg = pickle.load(open(cfg_path, 'rb'))\n",
    "x,y = samples_generator(np_avg_val, (cfg['num_samples'], cfg['num_features']) , cfg['samples_value_rng'], cfg['seed'])\n",
    "x_train, x_test, y_train, y_test = split_train_test (x, y , cfg['test_ratio'])\n",
    "ops = Operations(cfg)\n",
    "#vals = [op(x_test[0:100],0) for op in ops.ops]\n",
    "x, y"
   ]
  },
  {
   "cell_type": "code",
   "execution_count": null,
   "metadata": {
    "collapsed": true,
    "deletable": true,
    "editable": true
   },
   "outputs": [],
   "source": [
    "def tf_input_mem_concat(cfg, inpt, mem_sel=None):\n",
    "        inpt_slice = tf.slice(inpt, [0,0], [cfg['batch_size'],1], name=\"tf_inp_mem_cnt_slice1\")\n",
    "        mem_slice = tf.slice(mem_sel, [0,0], [cfg['batch_size'],1], name=\"tf_inp_mem_cnt_slice1\")\n",
    "        intp_mem_concat  = tf.concat([inpt_slice, mem_slice],1, name=\"tf_inp_mem_cnt_cnct\")\n",
    "        pad_res = tf.pad(intp_mem_concat, [[0,0],[0,cfg['num_features'] - 2]], \"CONSTANT\", name=\"tf_inp_mem_cnt_pad\")\n",
    "        return  pad_res"
   ]
  },
  {
   "cell_type": "code",
   "execution_count": null,
   "metadata": {
    "collapsed": false,
    "deletable": true,
    "editable": true
   },
   "outputs": [],
   "source": [
    "tf_input_mem_concat(cfg, x_test[0:100], y_test[0:100]).eval()"
   ]
  },
  {
   "cell_type": "code",
   "execution_count": null,
   "metadata": {
    "collapsed": false,
    "deletable": true,
    "editable": true
   },
   "outputs": [],
   "source": [
    "x_test[0:100], y_test[0:100]"
   ]
  },
  {
   "cell_type": "code",
   "execution_count": null,
   "metadata": {
    "collapsed": true,
    "deletable": true,
    "editable": true
   },
   "outputs": [],
   "source": []
  }
 ],
 "metadata": {
  "kernelspec": {
   "display_name": "Python 3",
   "language": "python",
   "name": "python3"
  },
  "language_info": {
   "codemirror_mode": {
    "name": "ipython",
    "version": 3
   },
   "file_extension": ".py",
   "mimetype": "text/x-python",
   "name": "python",
   "nbconvert_exporter": "python",
   "pygments_lexer": "ipython3",
   "version": "3.4.3"
  }
 },
 "nbformat": 4,
 "nbformat_minor": 2
}
