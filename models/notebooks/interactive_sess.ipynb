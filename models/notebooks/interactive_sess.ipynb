{
 "cells": [
  {
   "cell_type": "code",
   "execution_count": 6,
   "metadata": {
    "collapsed": false,
    "deletable": true,
    "editable": true
   },
   "outputs": [],
   "source": [
    "import numpy as np\n",
    "import tensorflow as tf\n",
    "from functools import reduce\n",
    "import matplotlib.pyplot as plt\n",
    "import random\n",
    "\n",
    "gloabal_seed = round(random.random()*100000)"
   ]
  },
  {
   "cell_type": "code",
   "execution_count": 7,
   "metadata": {
    "collapsed": false,
    "deletable": true,
    "editable": true
   },
   "outputs": [
    {
     "data": {
      "text/plain": [
       "64550"
      ]
     },
     "execution_count": 7,
     "metadata": {},
     "output_type": "execute_result"
    }
   ],
   "source": [
    "np.random.seed(gloabal_seed)\n",
    "tf.set_random_seed(gloabal_seed)\n",
    "sess = tf.InteractiveSession()\n",
    "num_features = 3\n",
    "num_samples = 5\n",
    "state_size = 4\n",
    "num_of_operations = 3\n",
    "batch_size = num_samples\n",
    "max_num_features = 10\n",
    "datatype = tf.float64\n",
    "\n",
    "\n",
    "#model placeholders\n",
    "batchX_placeholder = tf.placeholder(datatype, [batch_size, None], name=\"batchX\")\n",
    "batchY_placeholder = tf.placeholder(datatype, [batch_size, None], name=\"batchY\")\n",
    "\n",
    "def add(vec):\n",
    "    return reduce((lambda x, y: x + y),vec)\n",
    "\n",
    "def samples_generator(fn, shape, rng, seed=None):\n",
    "    '''\n",
    "    Generate random samples for the model:\n",
    "    @fn - function to be applied on the input features to get the ouput\n",
    "    @shape - shape of the features matrix (num_samples, num_features)\n",
    "    @rng - range of the input features to be generated within (a,b)\n",
    "    @seed  - generation seed\n",
    "    Outputs a tuple of input and output features matrix\n",
    "    '''\n",
    "    x = (rng[1] - rng[0]) * np.random.random_sample(shape) + rng[0]\n",
    "    y = np.apply_along_axis(fn, 1, x).reshape((shape[0],-1))\n",
    "    z = np.zeros((shape[0],shape[1] - y.shape[1]))\n",
    "    y = np.concatenate((y, z), axis=1)\n",
    "    \n",
    "    return x,y\n",
    "\n",
    "\n",
    "_x,_y = samples_generator(add, (num_samples, num_features) , (0, 100))\n",
    "\n",
    "def tf_multiply(inpt):\n",
    "    return tf.reshape( tf.reduce_prod(inpt, axis = 1), [batch_size, -1])\n",
    "\n",
    "def tf_add(inpt):\n",
    "    return  tf.reshape( tf.reduce_sum(inpt, axis = 1), [batch_size, -1])\n",
    "\n",
    "def tf_stall(a):\n",
    "    return a\n",
    "\n",
    "W_te = tf.Variable(tf.truncated_normal([state_size, num_of_operations], -1*5, 5, dtype=datatype),dtype=datatype, name=\"W2\")\n",
    "\n",
    "x = tf.Variable(_x, dtype=datatype)\n",
    "y = tf.Variable(_y, dtype=datatype)\n",
    "W_te.initializer.run()\n",
    "x.initializer.run()\n",
    "y.initializer.run()\n",
    "\n",
    "gloabal_seed"
   ]
  },
  {
   "cell_type": "code",
   "execution_count": 8,
   "metadata": {
    "collapsed": false,
    "deletable": true,
    "editable": true
   },
   "outputs": [
    {
     "data": {
      "text/plain": [
       "array([[ 84.19388261,  86.86347389,  23.75188749],\n",
       "       [ 13.19355386,  69.44692959,  92.72612234],\n",
       "       [ 97.77557888,  96.82252771,   3.65927751],\n",
       "       [ 88.81764449,  52.37139201,  96.97827122],\n",
       "       [ 30.65724851,  53.9719062 ,  30.12296349]])"
      ]
     },
     "execution_count": 8,
     "metadata": {},
     "output_type": "execute_result"
    }
   ],
   "source": [
    "_x"
   ]
  },
  {
   "cell_type": "code",
   "execution_count": 9,
   "metadata": {
    "collapsed": false,
    "deletable": true,
    "editable": true
   },
   "outputs": [
    {
     "data": {
      "text/plain": [
       "'W2_1:0'"
      ]
     },
     "execution_count": 9,
     "metadata": {},
     "output_type": "execute_result"
    }
   ],
   "source": [
    "W_te.name"
   ]
  },
  {
   "cell_type": "code",
   "execution_count": 24,
   "metadata": {
    "collapsed": false,
    "deletable": true,
    "editable": true
   },
   "outputs": [
    {
     "name": "stdout",
     "output_type": "stream",
     "text": [
      "[[ 194.809244  ]\n",
      " [ 175.3666058 ]\n",
      " [ 198.25738409]\n",
      " [ 238.16730773]\n",
      " [ 114.7521182 ]]\n",
      "[[ 173706.41561076]\n",
      " [  84960.47708269]\n",
      " [  34641.93627879]\n",
      " [ 451094.78522039]\n",
      " [  49842.36332631]]\n",
      "[[ 84.19388261  86.86347389  23.75188749]\n",
      " [ 13.19355386  69.44692959  92.72612234]\n",
      " [ 97.77557888  96.82252771   3.65927751]\n",
      " [ 88.81764449  52.37139201  96.97827122]\n",
      " [ 30.65724851  53.9719062   30.12296349]]\n"
     ]
    }
   ],
   "source": [
    "add    = tf_add(x)\n",
    "mult   = tf_multiply(x)\n",
    "stall  = tf_stall(x)\n",
    "values = tf.concat([add, mult, stall], 1)\n",
    "#print(values.eval())\n",
    "#padding = tf.constant()\n",
    "print(add.eval())\n",
    "print(mult.eval())\n",
    "print(stall.eval())"
   ]
  },
  {
   "cell_type": "code",
   "execution_count": 21,
   "metadata": {
    "collapsed": false,
    "deletable": true,
    "editable": true
   },
   "outputs": [
    {
     "name": "stdout",
     "output_type": "stream",
     "text": [
      "[[ 0.14723534  0.54142297  0.31134169]\n",
      " [ 0.14723534  0.54142297  0.31134169]\n",
      " [ 0.14723534  0.54142297  0.31134169]\n",
      " [ 0.14723534  0.54142297  0.31134169]\n",
      " [ 0.14723534  0.54142297  0.31134169]]\n"
     ]
    }
   ],
   "source": [
    "init_state = tf.Variable(np.zeros([batch_size, state_size]), dtype=datatype)\n",
    "argmax_dum = tf.Variable([2, 2, 2, 2, 2, 2, 2, 2, 2, 0, 2, 2, 2, 2, 2, 2, 2, 2, 2, 1, 2, 2, 2, 2, 2, 2, 2, 2, 2, 2],  dtype=datatype)\n",
    "W = tf.Variable(np.random.rand(state_size+num_features, state_size), dtype=datatype)\n",
    "b = tf.Variable(np.zeros((state_size)), dtype=datatype)\n",
    "\n",
    "W2 = tf.Variable(np.random.rand(state_size, num_of_operations),dtype=datatype)\n",
    "b2 = tf.Variable(np.zeros((num_of_operations)), dtype=datatype)\n",
    "\n",
    "dummy_matrix = tf.zeros([batch_size, num_features], datatype, name=\"dummy_constant\")\n",
    "\n",
    "init_state.initializer.run()\n",
    "argmax_dum.initializer.run()\n",
    "W.initializer.run()\n",
    "b.initializer.run()\n",
    "W2.initializer.run()\n",
    "b2.initializer.run()\n",
    "#dummy_matrix.initializer.run()\n",
    "\n",
    "current_state = init_state\n",
    "current_input = x\n",
    "      \n",
    "input_and_state_concatenated = tf.concat([current_input, current_state], 1)  # Increasing number of columns\n",
    "next_state = tf.tanh(tf.matmul(input_and_state_concatenated, W) + b)  # Broadcasted addition\n",
    "current_state = next_state\n",
    "    \n",
    "    #calculate softmax and produce the mask of operations\n",
    "logits  = tf.matmul(next_state, W2) + b2 #Broadcasted addition\n",
    "softmax = tf.nn.softmax(logits)\n",
    "softmax_10000 = tf.nn.softmax(logits)\n",
    "softplus = tf.nn.softplus(logits)\n",
    "softsign = tf.nn.softsign(logits)\n",
    "argmax  = tf.argmax(softmax, 1)\n",
    "\n",
    "#lengths_transposed = tf.expand_dims(argmax, 0)\n",
    "#onehot  = tf.one_hot(argmax, num_of_operations)\n",
    "stall_width = tf.shape(stall)[1] - 1 \n",
    "stall_select = tf.slice(softmax, [0,2], [batch_size,1])\n",
    "multiples = [1, stall_width]\n",
    "stall_mask = tf.tile(stall_select, multiples)\n",
    "mask = tf.concat([softmax, stall_mask], 1)\n",
    "#mask = tf.cast(mask, tf.bool)\n",
    "#apply mask\n",
    "#output = tf.boolean_mask(values,mask)\n",
    "output = values * mask\n",
    "nn_soft = tf.nn.softmax(logits)\n",
    "output_width = tf.shape(output)[1]\n",
    "#zeros_slice = tf.slice(dummy_matrix, [0,0], [batch_size, max_num_features - output_width])\n",
    "#dum_plus_input = tf.concat([output, zeros_slice], 1)\n",
    "#print(dum_plus_input.eval())\n",
    "\n",
    "'''\n",
    "print(x.eval())\n",
    "print(\"stall_select\")\n",
    "print(stall_select.eval())\n",
    "print(\"mask\")\n",
    "print(mask.eval())\n",
    "print(\"logits\")\n",
    "print(logits.eval())\n",
    "print(\"softmax\")\n",
    "print(softmax.eval())\n",
    "print(\"softplus\")\n",
    "print(softplus.eval())\n",
    "print(\"softsign\")\n",
    "print(softsign.eval())\n",
    "print(\"softmax*10000\")\n",
    "print(softmax_10000.eval())\n",
    "print(\"onehot\")\n",
    "print(onehot.eval())\n",
    "'''\n",
    "#print(mask.eval())\n",
    "#print(mask.eval())\n",
    "#print(output.eval())\n",
    "print(softmax.eval())"
   ]
  },
  {
   "cell_type": "code",
   "execution_count": 26,
   "metadata": {
    "collapsed": false,
    "deletable": true,
    "editable": true
   },
   "outputs": [
    {
     "name": "stdout",
     "output_type": "stream",
     "text": [
      "[[ 0.14723534]\n",
      " [ 0.14723534]\n",
      " [ 0.14723534]\n",
      " [ 0.14723534]\n",
      " [ 0.14723534]]\n",
      "[[ 0.54142297]\n",
      " [ 0.54142297]\n",
      " [ 0.54142297]\n",
      " [ 0.54142297]\n",
      " [ 0.54142297]]\n",
      "[[ 0.31134169]\n",
      " [ 0.31134169]\n",
      " [ 0.31134169]\n",
      " [ 0.31134169]\n",
      " [ 0.31134169]]\n"
     ]
    },
    {
     "ename": "TypeError",
     "evalue": "List of Tensors when single Tensor expected",
     "output_type": "error",
     "traceback": [
      "\u001b[0;31m---------------------------------------------------------------------------\u001b[0m",
      "\u001b[0;31mTypeError\u001b[0m                                 Traceback (most recent call last)",
      "\u001b[0;32m<ipython-input-26-7f79e72705e6>\u001b[0m in \u001b[0;36m<module>\u001b[0;34m()\u001b[0m\n\u001b[1;32m     11\u001b[0m \u001b[0mstall_width\u001b[0m \u001b[0;34m=\u001b[0m \u001b[0mtf\u001b[0m\u001b[0;34m.\u001b[0m\u001b[0mshape\u001b[0m\u001b[0;34m(\u001b[0m\u001b[0mstall\u001b[0m\u001b[0;34m)\u001b[0m\u001b[0;34m[\u001b[0m\u001b[0;36m1\u001b[0m\u001b[0;34m]\u001b[0m\u001b[0;34m\u001b[0m\u001b[0m\n\u001b[1;32m     12\u001b[0m \u001b[0;34m\u001b[0m\u001b[0m\n\u001b[0;32m---> 13\u001b[0;31m \u001b[0mpadd_Add\u001b[0m \u001b[0;34m=\u001b[0m \u001b[0mtf\u001b[0m\u001b[0;34m.\u001b[0m\u001b[0mconstant\u001b[0m\u001b[0;34m(\u001b[0m\u001b[0;34m[\u001b[0m\u001b[0;34m[\u001b[0m\u001b[0;36m0\u001b[0m\u001b[0;34m,\u001b[0m\u001b[0;36m0\u001b[0m\u001b[0;34m]\u001b[0m\u001b[0;34m,\u001b[0m\u001b[0;34m[\u001b[0m\u001b[0;36m0\u001b[0m\u001b[0;34m,\u001b[0m\u001b[0mnum_features\u001b[0m \u001b[0;34m-\u001b[0m \u001b[0madd_width\u001b[0m\u001b[0;34m]\u001b[0m\u001b[0;34m]\u001b[0m\u001b[0;34m)\u001b[0m\u001b[0;34m\u001b[0m\u001b[0m\n\u001b[0m\u001b[1;32m     14\u001b[0m \u001b[0madd_final\u001b[0m \u001b[0;34m=\u001b[0m \u001b[0mtf\u001b[0m\u001b[0;34m.\u001b[0m\u001b[0mpad\u001b[0m\u001b[0;34m(\u001b[0m\u001b[0madd\u001b[0m\u001b[0;34m,\u001b[0m \u001b[0mpadd_Add\u001b[0m\u001b[0;34m,\u001b[0m \u001b[0;34m\"CONSTANT\"\u001b[0m\u001b[0;34m)\u001b[0m\u001b[0;34m\u001b[0m\u001b[0m\n\u001b[1;32m     15\u001b[0m \u001b[0mmult_final\u001b[0m \u001b[0;34m=\u001b[0m \u001b[0mtf\u001b[0m\u001b[0;34m.\u001b[0m\u001b[0mpad\u001b[0m\u001b[0;34m(\u001b[0m\u001b[0mmult\u001b[0m\u001b[0;34m,\u001b[0m \u001b[0;34m[\u001b[0m\u001b[0;34m[\u001b[0m\u001b[0;36m0\u001b[0m\u001b[0;34m,\u001b[0m\u001b[0;36m0\u001b[0m\u001b[0;34m]\u001b[0m\u001b[0;34m,\u001b[0m\u001b[0;34m[\u001b[0m\u001b[0;36m0\u001b[0m\u001b[0;34m,\u001b[0m\u001b[0mnum_features\u001b[0m \u001b[0;34m-\u001b[0m \u001b[0mmult_width\u001b[0m\u001b[0;34m]\u001b[0m\u001b[0;34m]\u001b[0m\u001b[0;34m,\u001b[0m \u001b[0;34m\"CONSTANT\"\u001b[0m\u001b[0;34m)\u001b[0m\u001b[0;34m\u001b[0m\u001b[0m\n",
      "\u001b[0;32m/usr/local/lib/python3.4/dist-packages/tensorflow/python/framework/constant_op.py\u001b[0m in \u001b[0;36mconstant\u001b[0;34m(value, dtype, shape, name, verify_shape)\u001b[0m\n\u001b[1;32m    100\u001b[0m   \u001b[0mtensor_value\u001b[0m \u001b[0;34m=\u001b[0m \u001b[0mattr_value_pb2\u001b[0m\u001b[0;34m.\u001b[0m\u001b[0mAttrValue\u001b[0m\u001b[0;34m(\u001b[0m\u001b[0;34m)\u001b[0m\u001b[0;34m\u001b[0m\u001b[0m\n\u001b[1;32m    101\u001b[0m   tensor_value.tensor.CopyFrom(\n\u001b[0;32m--> 102\u001b[0;31m       tensor_util.make_tensor_proto(value, dtype=dtype, shape=shape, verify_shape=verify_shape))\n\u001b[0m\u001b[1;32m    103\u001b[0m   \u001b[0mdtype_value\u001b[0m \u001b[0;34m=\u001b[0m \u001b[0mattr_value_pb2\u001b[0m\u001b[0;34m.\u001b[0m\u001b[0mAttrValue\u001b[0m\u001b[0;34m(\u001b[0m\u001b[0mtype\u001b[0m\u001b[0;34m=\u001b[0m\u001b[0mtensor_value\u001b[0m\u001b[0;34m.\u001b[0m\u001b[0mtensor\u001b[0m\u001b[0;34m.\u001b[0m\u001b[0mdtype\u001b[0m\u001b[0;34m)\u001b[0m\u001b[0;34m\u001b[0m\u001b[0m\n\u001b[1;32m    104\u001b[0m   const_tensor = g.create_op(\n",
      "\u001b[0;32m/usr/local/lib/python3.4/dist-packages/tensorflow/python/framework/tensor_util.py\u001b[0m in \u001b[0;36mmake_tensor_proto\u001b[0;34m(values, dtype, shape, verify_shape)\u001b[0m\n\u001b[1;32m    374\u001b[0m       \u001b[0mnparray\u001b[0m \u001b[0;34m=\u001b[0m \u001b[0mnp\u001b[0m\u001b[0;34m.\u001b[0m\u001b[0mempty\u001b[0m\u001b[0;34m(\u001b[0m\u001b[0mshape\u001b[0m\u001b[0;34m,\u001b[0m \u001b[0mdtype\u001b[0m\u001b[0;34m=\u001b[0m\u001b[0mnp_dt\u001b[0m\u001b[0;34m)\u001b[0m\u001b[0;34m\u001b[0m\u001b[0m\n\u001b[1;32m    375\u001b[0m     \u001b[0;32melse\u001b[0m\u001b[0;34m:\u001b[0m\u001b[0;34m\u001b[0m\u001b[0m\n\u001b[0;32m--> 376\u001b[0;31m       \u001b[0m_AssertCompatible\u001b[0m\u001b[0;34m(\u001b[0m\u001b[0mvalues\u001b[0m\u001b[0;34m,\u001b[0m \u001b[0mdtype\u001b[0m\u001b[0;34m)\u001b[0m\u001b[0;34m\u001b[0m\u001b[0m\n\u001b[0m\u001b[1;32m    377\u001b[0m       \u001b[0mnparray\u001b[0m \u001b[0;34m=\u001b[0m \u001b[0mnp\u001b[0m\u001b[0;34m.\u001b[0m\u001b[0marray\u001b[0m\u001b[0;34m(\u001b[0m\u001b[0mvalues\u001b[0m\u001b[0;34m,\u001b[0m \u001b[0mdtype\u001b[0m\u001b[0;34m=\u001b[0m\u001b[0mnp_dt\u001b[0m\u001b[0;34m)\u001b[0m\u001b[0;34m\u001b[0m\u001b[0m\n\u001b[1;32m    378\u001b[0m       \u001b[0;31m# check to them.\u001b[0m\u001b[0;34m\u001b[0m\u001b[0;34m\u001b[0m\u001b[0m\n",
      "\u001b[0;32m/usr/local/lib/python3.4/dist-packages/tensorflow/python/framework/tensor_util.py\u001b[0m in \u001b[0;36m_AssertCompatible\u001b[0;34m(values, dtype)\u001b[0m\n\u001b[1;32m    297\u001b[0m   \u001b[0;32mif\u001b[0m \u001b[0mmismatch\u001b[0m \u001b[0;32mis\u001b[0m \u001b[0;32mnot\u001b[0m \u001b[0;32mNone\u001b[0m\u001b[0;34m:\u001b[0m\u001b[0;34m\u001b[0m\u001b[0m\n\u001b[1;32m    298\u001b[0m     \u001b[0;32mif\u001b[0m \u001b[0mdtype\u001b[0m \u001b[0;32mis\u001b[0m \u001b[0;32mNone\u001b[0m\u001b[0;34m:\u001b[0m\u001b[0;34m\u001b[0m\u001b[0m\n\u001b[0;32m--> 299\u001b[0;31m       \u001b[0;32mraise\u001b[0m \u001b[0mTypeError\u001b[0m\u001b[0;34m(\u001b[0m\u001b[0;34m\"List of Tensors when single Tensor expected\"\u001b[0m\u001b[0;34m)\u001b[0m\u001b[0;34m\u001b[0m\u001b[0m\n\u001b[0m\u001b[1;32m    300\u001b[0m     \u001b[0;32melse\u001b[0m\u001b[0;34m:\u001b[0m\u001b[0;34m\u001b[0m\u001b[0m\n\u001b[1;32m    301\u001b[0m       raise TypeError(\"Expected %s, got %s of type '%s' instead.\" %\n",
      "\u001b[0;31mTypeError\u001b[0m: List of Tensors when single Tensor expected"
     ]
    }
   ],
   "source": [
    "add_softmax   = tf.slice(softmax, [0,0], [batch_size,1])\n",
    "mult_softmax  = tf.slice(softmax, [0,1], [batch_size,1])\n",
    "stall_softmax = tf.slice(softmax, [0,2], [batch_size,1])\n",
    "\n",
    "print(add_softmax.eval())\n",
    "print(mult_softmax.eval())\n",
    "print(stall_softmax.eval())\n",
    "\n",
    "add_width   = tf.shape(add)[1]\n",
    "mult_width  = tf.shape(mult)[1]\n",
    "stall_width = tf.shape(stall)[1]\n",
    "\n",
    "padd_Add = tf.constant(np[[0,0],[0,num_features - add_width]])\n",
    "add_final = tf.pad(add, padd_Add, \"CONSTANT\") \n",
    "mult_final = tf.pad(mult, [[0,0],[0,num_features - mult_width]], \"CONSTANT\") \n",
    "stall_final = tf.pad(stall, [[0,0],[0,num_features - stall_width]], \"CONSTANT\")\n",
    "\n",
    "print(add_final.eval())\n",
    "print(mult_final.eval())\n",
    "print(stall_final.eval())\n",
    "\n",
    "#tf.multiply()\n",
    "add_final   = tf.multiply(add_final, add_softmax)\n",
    "mult_final  = tf.multiply(mult_final, mult_softmax)\n",
    "stall_final = tf.multiply(stall_final, stall_softmax)\n",
    "\n",
    "print(add_final.eval())\n",
    "print(mult_final.eval())\n",
    "print(stall_final.eval())"
   ]
  },
  {
   "cell_type": "code",
   "execution_count": 17,
   "metadata": {
    "collapsed": false
   },
   "outputs": [
    {
     "name": "stdout",
     "output_type": "stream",
     "text": [
      "1\n",
      "1\n",
      "3\n",
      "[[ 194.809244  ]\n",
      " [ 175.3666058 ]\n",
      " [ 198.25738409]\n",
      " [ 238.16730773]\n",
      " [ 114.7521182 ]]\n",
      "[[ 173706.41561076]\n",
      " [  84960.47708269]\n",
      " [  34641.93627879]\n",
      " [ 451094.78522039]\n",
      " [  49842.36332631]]\n",
      "[[ 84.19388261  86.86347389  23.75188749]\n",
      " [ 13.19355386  69.44692959  92.72612234]\n",
      " [ 97.77557888  96.82252771   3.65927751]\n",
      " [ 88.81764449  52.37139201  96.97827122]\n",
      " [ 30.65724851  53.9719062   30.12296349]]\n",
      "[[ 0.11956474]\n",
      " [ 0.11956474]\n",
      " [ 0.11956474]\n",
      " [ 0.11956474]\n",
      " [ 0.11956474]]\n",
      "[[ 0.55501353]\n",
      " [ 0.55501353]\n",
      " [ 0.55501353]\n",
      " [ 0.55501353]\n",
      " [ 0.55501353]]\n",
      "[[ 0.32542173]\n",
      " [ 0.32542173]\n",
      " [ 0.32542173]\n",
      " [ 0.32542173]\n",
      " [ 0.32542173]]\n",
      "[[ 23.29231618   0.           0.        ]\n",
      " [ 20.96766224   0.           0.        ]\n",
      " [ 23.70459214   0.           0.        ]\n",
      " [ 28.4764117    0.           0.        ]\n",
      " [ 13.72030692   0.           0.        ]]\n",
      "[[  96409.41101023       0.               0.        ]\n",
      " [  47154.2143443        0.               0.        ]\n",
      " [  19226.74335976       0.               0.        ]\n",
      " [ 250363.70936543       0.               0.        ]\n",
      " [  27663.18604153       0.               0.        ]]\n",
      "[[ 27.39851907  28.26726209   7.72938036]\n",
      " [  4.29346914  22.59954009  30.1750953 ]\n",
      " [ 31.81829819  31.50815463   1.19080842]\n",
      " [ 28.90319167  17.04278908  31.55883695]\n",
      " [  9.9765349   17.56363118   9.80266694]]\n",
      "[[  9.64601018e+04   2.82672621e+01   7.72938036e+00]\n",
      " [  4.71794755e+04   2.25995401e+01   3.01750953e+01]\n",
      " [  1.92822663e+04   3.15081546e+01   1.19080842e+00]\n",
      " [  2.50421089e+05   1.70427891e+01   3.15588370e+01]\n",
      " [  2.76868829e+04   1.75636312e+01   9.80266694e+00]]\n"
     ]
    }
   ],
   "source": [
    "add_width   = tf.shape(add)[1]\n",
    "mult_width  = tf.shape(mult)[1]\n",
    "stall_width = tf.shape(stall)[1]\n",
    "\n",
    "\n",
    "add_final   = add * add_softmax\n",
    "mult_final  = mult * mult_softmax\n",
    "stall_final = stall * stall_softmax\n",
    "\n",
    "##conact add and mult results with zeros matrix\n",
    "add_final = tf.concat([add_final, tf.slice(dummy_matrix, [0,0], [batch_size, num_features - add_width])], 1) \n",
    "mult_final = tf.concat([mult_final, tf.slice(dummy_matrix, [0,0], [batch_size, num_features - mult_width])], 1) \n",
    "\n",
    "output_final = add_final + mult_final + stall_final \n",
    "\n",
    "print(add_width.eval())\n",
    "print(mult_width.eval())\n",
    "print(stall_width.eval())\n",
    "\n",
    "\n",
    "print(add.eval())\n",
    "print(mult.eval())\n",
    "print(stall.eval())\n",
    "\n",
    "print(add_softmax.eval())\n",
    "print(mult_softmax.eval())\n",
    "print(stall_softmax.eval())\n",
    "\n",
    "print(add_final.eval())\n",
    "print(mult_final.eval())\n",
    "print(stall_final.eval())\n",
    "\n",
    "print(output_final.eval())"
   ]
  },
  {
   "cell_type": "code",
   "execution_count": 28,
   "metadata": {
    "collapsed": false,
    "deletable": true,
    "editable": true
   },
   "outputs": [
    {
     "name": "stdout",
     "output_type": "stream",
     "text": [
      "[[ 88.83499413]\n",
      " [ 85.56388494]\n",
      " [ 19.11761486]\n",
      " [ 92.13705181]\n",
      " [ 82.50776821]]\n",
      "[[  3.80669209e+38]\n",
      " [  1.44518379e+37]\n",
      " [  2.00758824e+08]\n",
      " [  1.03422059e+40]\n",
      " [  6.80249839e+35]]\n",
      "[[ 28.43746689  88.83499413]\n",
      " [ 44.79539098  85.56388494]\n",
      " [ 19.11761484   1.44401848]\n",
      " [ 92.13705181  40.86930991]\n",
      " [  2.55786472  82.50776821]]\n",
      "[[ 0.  1.]\n",
      " [ 0.  1.]\n",
      " [ 1.  0.]\n",
      " [ 1.  0.]\n",
      " [ 0.  1.]]\n"
     ]
    }
   ],
   "source": [
    "\n",
    "def custom_softmax(inpt):\n",
    "    sum_exponents = tf.reduce_sum(tf.exp(inpt), axis = 1)\n",
    "    soft_max = tf.log(sum_exponents)\n",
    "    soft_max = tf.reshape( soft_max, [batch_size, -1])\n",
    "    print(soft_max.eval())\n",
    "    matrix_width = tf.cast(tf.shape(inpt)[1], tf.int32)\n",
    "    multiples = [1, matrix_width]\n",
    "    soft_max = tf.tile(soft_max, multiples)\n",
    "    return  tf.reshape( inpt / soft_max, [batch_size, -1])\n",
    "\n",
    "def custom_softmax2(inpt):\n",
    "    sum_exponents = tf.reduce_sum(tf.exp(inpt), axis = 1)\n",
    "    soft_max = sum_exponents\n",
    "    soft_max = tf.reshape( soft_max, [batch_size, -1])\n",
    "    print(soft_max.eval())\n",
    "    matrix_width = tf.cast(tf.shape(inpt)[1], tf.int32)\n",
    "    multiples = [1, matrix_width]\n",
    "    soft_max = tf.tile(soft_max, multiples)\n",
    "    return  tf.reshape( tf.exp(inpt) / soft_max, [batch_size, -1])\n",
    "x_cust = custom_softmax(x)\n",
    "x_cust2 = custom_softmax2(x)\n",
    "print(x.eval())\n",
    "#print(x_cust2.eval())\n",
    "print(tf.nn.softmax(x*10000).eval())"
   ]
  },
  {
   "cell_type": "code",
   "execution_count": 29,
   "metadata": {
    "collapsed": false,
    "deletable": true,
    "editable": true
   },
   "outputs": [],
   "source": [
    "math_error = tf.multiply(tf.constant(0.5, dtype=datatype), tf.square(tf.subtract(tf.reduce_sum(output, axis = 1, name=\"red_output\") , batchY_placeholder, name=\"sub_otput_batchY\"), name=\"squar_error\"), name=\"mult_with_0.5\")\n",
    "\n",
    "total_loss = tf.reduce_sum(math_error, name=\"red_total_loss\")\n",
    "\n",
    "grads = tf.gradients(total_loss, [W,b,W2,b2], name=\"comp_gradients\")\n",
    "train_step = tf.train.AdamOptimizer(0.1, name=\"AdamOpt\").minimize(total_loss, name=\"min_loss\")"
   ]
  },
  {
   "cell_type": "code",
   "execution_count": 30,
   "metadata": {
    "collapsed": false,
    "deletable": true,
    "editable": true
   },
   "outputs": [],
   "source": [
    "def calc_loss(output):\n",
    "    #reduced_output = tf.reshape( tf.reduce_sum(output, axis = 1, name=\"red_output\"), [batch_size, -1])\n",
    "    math_error = tf.multiply(tf.constant(0.5, dtype=datatype), tf.square(tf.subtract(output , y, name=\"sub_otput_batchY\"), name=\"squar_error\"), name=\"mult_with_0.5\")\n",
    "    \n",
    "                             \n",
    "    total_loss = tf.reduce_sum(math_error, name=\"red_total_loss\")\n",
    "    return total_loss, math_error\n",
    "\n",
    "\n",
    "loss, mathh = calc_loss(output_final)"
   ]
  },
  {
   "cell_type": "code",
   "execution_count": 31,
   "metadata": {
    "collapsed": false,
    "deletable": true,
    "editable": true
   },
   "outputs": [
    {
     "data": {
      "text/plain": [
       "array([[  1.30718378e+06,   1.69663271e+02],\n",
       "       [  3.11424301e+06,   1.57398529e+02],\n",
       "       [  1.00464276e+01,   4.48384279e-02],\n",
       "       [  3.01961583e+06,   3.59099076e+01],\n",
       "       [  2.33981706e+03,   1.46356992e+02]])"
      ]
     },
     "execution_count": 31,
     "metadata": {},
     "output_type": "execute_result"
    }
   ],
   "source": [
    "mathh.eval()"
   ]
  },
  {
   "cell_type": "code",
   "execution_count": 198,
   "metadata": {
    "collapsed": false,
    "deletable": true,
    "editable": true
   },
   "outputs": [],
   "source": [
    "prng = np.random.RandomState(1234)"
   ]
  },
  {
   "cell_type": "code",
   "execution_count": null,
   "metadata": {
    "collapsed": true,
    "deletable": true,
    "editable": true
   },
   "outputs": [],
   "source": []
  },
  {
   "cell_type": "code",
   "execution_count": 115,
   "metadata": {
    "collapsed": true,
    "deletable": true,
    "editable": true
   },
   "outputs": [],
   "source": [
    "sess.close()"
   ]
  },
  {
   "cell_type": "code",
   "execution_count": 199,
   "metadata": {
    "collapsed": false,
    "deletable": true,
    "editable": true
   },
   "outputs": [
    {
     "data": {
      "text/plain": [
       "array([[ 0.19151945,  0.62210877,  0.43772774,  0.78535858,  0.77997581],\n",
       "       [ 0.27259261,  0.27646426,  0.80187218,  0.95813935,  0.87593263],\n",
       "       [ 0.35781727,  0.50099513,  0.68346294,  0.71270203,  0.37025075],\n",
       "       [ 0.56119619,  0.50308317,  0.01376845,  0.77282662,  0.88264119],\n",
       "       [ 0.36488598,  0.61539618,  0.07538124,  0.36882401,  0.9331401 ],\n",
       "       [ 0.65137814,  0.39720258,  0.78873014,  0.31683612,  0.56809865],\n",
       "       [ 0.86912739,  0.43617342,  0.80214764,  0.14376682,  0.70426097],\n",
       "       [ 0.70458131,  0.21879211,  0.92486763,  0.44214076,  0.90931596],\n",
       "       [ 0.05980922,  0.18428708,  0.04735528,  0.67488094,  0.59462478],\n",
       "       [ 0.53331016,  0.04332406,  0.56143308,  0.32966845,  0.50296683]])"
      ]
     },
     "execution_count": 199,
     "metadata": {},
     "output_type": "execute_result"
    }
   ],
   "source": [
    "prng.random_sample((10,5))"
   ]
  },
  {
   "cell_type": "code",
   "execution_count": 208,
   "metadata": {
    "collapsed": false,
    "deletable": true,
    "editable": true
   },
   "outputs": [
    {
     "data": {
      "text/plain": [
       "array([[ 21.88666268,  34.73962374],\n",
       "       [ 40.79798811,  43.39526771]])"
      ]
     },
     "execution_count": 208,
     "metadata": {},
     "output_type": "execute_result"
    }
   ],
   "source": [
    "_x[0:2]"
   ]
  },
  {
   "cell_type": "code",
   "execution_count": null,
   "metadata": {
    "collapsed": false,
    "deletable": true,
    "editable": true
   },
   "outputs": [],
   "source": [
    "q = tf.FIFOQueue(capacity=2, dtypes=datatype)\n",
    "q.enqueue(x)\n",
    "q.dequeue().eval()"
   ]
  },
  {
   "cell_type": "code",
   "execution_count": null,
   "metadata": {
    "collapsed": true,
    "deletable": true,
    "editable": true
   },
   "outputs": [],
   "source": [
    "for batch_idx in range(num_batches):\n",
    "            start_idx = batch_size * batch_idx\n",
    "            end_idx   = batch_size * batch_idx + batch_idx\n",
    "\n",
    "            batchX = x[start_idx:end_idx]\n",
    "            batchY = y[start_idx:end_idx]\n",
    "            "
   ]
  }
 ],
 "metadata": {
  "kernelspec": {
   "display_name": "Python 3",
   "language": "python",
   "name": "python3"
  },
  "language_info": {
   "codemirror_mode": {
    "name": "ipython",
    "version": 3
   },
   "file_extension": ".py",
   "mimetype": "text/x-python",
   "name": "python",
   "nbconvert_exporter": "python",
   "pygments_lexer": "ipython3",
   "version": "3.4.3"
  }
 },
 "nbformat": 4,
 "nbformat_minor": 2
}
