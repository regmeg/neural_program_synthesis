{
 "cells": [
  {
   "cell_type": "code",
   "execution_count": 1,
   "metadata": {
    "collapsed": false,
    "deletable": true,
    "editable": true
   },
   "outputs": [
    {
     "name": "stdout",
     "output_type": "stream",
     "text": [
      "timestep 0\n",
      "timestep 1\n",
      "timestep 2\n",
      "timestep 3\n",
      "timestep 4\n",
      "timestep 0\n",
      "timestep 1\n",
      "timestep 2\n",
      "timestep 3\n",
      "timestep 4\n",
      "[<tf.Variable 'RNN_mem/Params/W_mem:0' shape=(304, 300) dtype=float64_ref>, <tf.Variable 'RNN_mem/Params/b_mem:0' shape=(300,) dtype=float64_ref>, <tf.Variable 'RNN_mem/Params/W2_mem:0' shape=(300, 5) dtype=float64_ref>, <tf.Variable 'RNN_mem/Params/b2_mem:0' shape=(5,) dtype=float64_ref>, <tf.Variable 'RNN_op/Params/W:0' shape=(304, 300) dtype=float64_ref>, <tf.Variable 'RNN_op/Params/b:0' shape=(300,) dtype=float64_ref>, <tf.Variable 'RNN_op/Params/W2:0' shape=(300, 5) dtype=float64_ref>, <tf.Variable 'RNN_op/Params/b2:0' shape=(5,) dtype=float64_ref>]\n",
      "norming the grads\n",
      "grads are\n",
      "[<tf.Tensor 'RNN_op/Grads/clip_by_global_norm/RNN_op/Grads/clip_by_global_norm/_0:0' shape=(304, 300) dtype=float64>, <tf.Tensor 'RNN_op/Grads/clip_by_global_norm/RNN_op/Grads/clip_by_global_norm/_1:0' shape=(300,) dtype=float64>, <tf.Tensor 'RNN_op/Grads/clip_by_global_norm/RNN_op/Grads/clip_by_global_norm/_2:0' shape=(300, 5) dtype=float64>, <tf.Tensor 'RNN_op/Grads/clip_by_global_norm/RNN_op/Grads/clip_by_global_norm/_3:0' shape=(5,) dtype=float64>, <tf.Tensor 'RNN_op/Grads/clip_by_global_norm/RNN_op/Grads/clip_by_global_norm/_4:0' shape=(304, 300) dtype=float64>, <tf.Tensor 'RNN_op/Grads/clip_by_global_norm/RNN_op/Grads/clip_by_global_norm/_5:0' shape=(300,) dtype=float64>, <tf.Tensor 'RNN_op/Grads/clip_by_global_norm/RNN_op/Grads/clip_by_global_norm/_6:0' shape=(300, 5) dtype=float64>, <tf.Tensor 'RNN_op/Grads/clip_by_global_norm/RNN_op/Grads/clip_by_global_norm/_7:0' shape=(5,) dtype=float64>]\n",
      "norm is \n",
      "Tensor(\"RNN_op/Grads/global_norm/global_norm:0\", shape=(), dtype=float64)\n",
      "num batches train: 23\n",
      "num batches test: 11\n",
      "INFO:tensorflow:Restoring parameters from /home/user/neural_program_synthesis/models/summaries/RNN/np_avg_val-5ops/one_both_hardmaxes_have_sat_sat_grad_out_NONREPRODUCEBLE/state_size_300-num_samples_3500-batch_size_100-learning_rate_0.001-epsilon_0.001-num_features_4-norm_True-softmax_sat_800-clip_False-share_state_True-rnns_same_state_False-state_fn_relu-pen_sofmax_True-smax_pen_r_0-seed_94169//model/-510\n"
     ]
    }
   ],
   "source": [
    "import pprint\n",
    "import os\n",
    "import sys\n",
    "import numpy as np\n",
    "from params import get_cfg\n",
    "from rnn_base import RNN\n",
    "from mem_sel_rnn import MemRNN\n",
    "from NoEmbedRNN import OpSel\n",
    "from NoEmbedRNN import MemSel\n",
    "from NoEmbedRNN import RNN as oldRNN\n",
    "from NoEmbedRNN import MemRNN  as oldMemRNN\n",
    "from NoEmbedRNN import HistoryRNN\n",
    "from ops import Operations\n",
    "from session import *\n",
    "from data_gen import *\n",
    "import pickle\n",
    "from functools import reduce\n",
    "\n",
    "modelName = 'RNN'\n",
    "old = True\n",
    "func = 'np_avg_val-5ops'\n",
    "name = 'one_both_hardmaxes_have_sat_sat_grad_out_NONREPRODUCEBLE/state_size_300-num_samples_3500-batch_size_100-learning_rate_0.001-epsilon_0.001-num_features_4-norm_True-softmax_sat_800-clip_False-share_state_True-rnns_same_state_False-state_fn_relu-pen_sofmax_True-smax_pen_r_0-seed_94169'\n",
    "path = '/home/user/neural_program_synthesis/models/summaries/'+modelName+'/'+func+'/'+name+'/'\n",
    "model_path = path+'/model'\n",
    "#get the global configuration\n",
    "cfg_path = path+'cfg.p'\n",
    "cfg = pickle.load(open(cfg_path, 'rb'))\n",
    "#instantiate containter with the operations avail for the selection\n",
    "ops = Operations(cfg)\n",
    "ops.ops = cfg[\"used_ops_obj\"]\n",
    "ops.num_of_ops = len(ops.ops)\n",
    "#generate data \n",
    "x,y = samples_generator(cfg['train_fn'], (cfg['num_samples'], cfg['num_features']) , cfg['samples_value_rng'], cfg['seed'])\n",
    "x_train, x_test, y_train, y_test = split_train_test (x, y , cfg['test_ratio'])\n",
    "\n",
    "if modelName == \"RNN\":\n",
    "        #instantiante the mem selection RNN\n",
    "        if old: mem = oldMemRNN(cfg, ops)\n",
    "        else:   mem = MemRNN(cfg, ops)\n",
    "        # instanitae the model graph with the main OP selection RNN\n",
    "        if old: model = oldRNN(cfg, ops, mem)\n",
    "        else:   model = RNN(cfg, ops, mem)\n",
    "        res = restore_selection_matrixes2RNNS(model, cfg, x_train, x_test, y_train, y_test, model_path)\n",
    "elif modelName == \"HistoryRNN\":\n",
    "        #instantiante the mem and op selection\n",
    "        mem_sel = MemSel(cfg, ops)\n",
    "        op_sel = OpSel(cfg, ops)\n",
    "        # instanitae the model graph with the main OP selection RNN\n",
    "        model = HistoryRNN(cfg, ops, mem_sel, op_sel)\n",
    "        res = restore_selection_matrixes_HistoryRNNS(model, cfg, x_train, x_test, y_train, y_test, model_path)"
   ]
  },
  {
   "cell_type": "code",
   "execution_count": 2,
   "metadata": {
    "collapsed": false,
    "deletable": true,
    "editable": true
   },
   "outputs": [],
   "source": [
    "def print_errors(error_lst, name):\n",
    "    print(\"\")\n",
    "    print(\"Total\", reduce((lambda x, y: x + y), error_lst))\n",
    "    for i, error in enumerate(error_lst):\n",
    "        print(name + \"[\" + str(i) + \"] err is \" + str(error))"
   ]
  },
  {
   "cell_type": "code",
   "execution_count": 3,
   "metadata": {
    "collapsed": false,
    "deletable": true,
    "editable": true
   },
   "outputs": [],
   "source": [
    "def print_matrix(total_error, matrix_lst, indeces = None):\n",
    "    np.set_printoptions(precision=3, suppress=True)\n",
    "    print(\"Error for this matrix is\", total_error)\n",
    "    for elem in range(len(matrix_lst[0])):\n",
    "        if indeces is not None and elem not in indeces: continue \n",
    "        print(\"\\n##Elem-\"+str(elem)+\"--#############################################################\")        \n",
    "        for matrix in matrix_lst:\n",
    "            print(matrix[elem], end=\" \")\n",
    "    print(\"\")"
   ]
  },
  {
   "cell_type": "code",
   "execution_count": 4,
   "metadata": {
    "collapsed": false,
    "deletable": true,
    "editable": true
   },
   "outputs": [],
   "source": [
    "def print_ops_matrix(total_error, matrix_lst, ops_list, indeces = None):\n",
    "    np.set_printoptions(precision=3, suppress=True)\n",
    "    print(\"Error for this matrix is\", total_error)\n",
    "    for elem in range(len(matrix_lst[0])):\n",
    "        if indeces is not None and elem not in indeces: continue \n",
    "        print(\"\\n##Elem-\"+str(elem)+\"--#############################################################\")        \n",
    "        for matrix in matrix_lst:\n",
    "            index = np.argmax(matrix[elem])\n",
    "            op_name = ops_list[index].__name__\n",
    "            print(\"[ \"+op_name+\" ]\", end=\" \")\n",
    "    print(\"\")"
   ]
  },
  {
   "cell_type": "code",
   "execution_count": 5,
   "metadata": {
    "collapsed": false,
    "deletable": true,
    "editable": true
   },
   "outputs": [
    {
     "name": "stdout",
     "output_type": "stream",
     "text": [
      "\n",
      "Total 7993524.81498\n",
      "sofmax_train_error[0] err is 328661.306732\n",
      "sofmax_train_error[1] err is 262200.811589\n",
      "sofmax_train_error[2] err is 440792.224826\n",
      "sofmax_train_error[3] err is 328659.972569\n",
      "sofmax_train_error[4] err is 330924.114628\n",
      "sofmax_train_error[5] err is 396157.179254\n",
      "sofmax_train_error[6] err is 354345.454382\n",
      "sofmax_train_error[7] err is 308599.42085\n",
      "sofmax_train_error[8] err is 326866.376788\n",
      "sofmax_train_error[9] err is 356433.252503\n",
      "sofmax_train_error[10] err is 377789.480559\n",
      "sofmax_train_error[11] err is 331439.37839\n",
      "sofmax_train_error[12] err is 307201.229494\n",
      "sofmax_train_error[13] err is 380694.616109\n",
      "sofmax_train_error[14] err is 357105.274483\n",
      "sofmax_train_error[15] err is 380487.641601\n",
      "sofmax_train_error[16] err is 377576.366968\n",
      "sofmax_train_error[17] err is 301583.306727\n",
      "sofmax_train_error[18] err is 335142.176585\n",
      "sofmax_train_error[19] err is 416492.430005\n",
      "sofmax_train_error[20] err is 322248.416841\n",
      "sofmax_train_error[21] err is 336935.122773\n",
      "sofmax_train_error[22] err is 335189.26032\n",
      "\n",
      "Total 7973083.41492\n",
      "hardmax_train_error[0] err is 316538.599578\n",
      "hardmax_train_error[1] err is 280469.994014\n",
      "hardmax_train_error[2] err is 435419.518745\n",
      "hardmax_train_error[3] err is 327685.090081\n",
      "hardmax_train_error[4] err is 331811.54785\n",
      "hardmax_train_error[5] err is 382994.581577\n",
      "hardmax_train_error[6] err is 373737.915837\n",
      "hardmax_train_error[7] err is 305902.212291\n",
      "hardmax_train_error[8] err is 326866.376788\n",
      "hardmax_train_error[9] err is 343496.28395\n",
      "hardmax_train_error[10] err is 376187.985735\n",
      "hardmax_train_error[11] err is 331548.395991\n",
      "hardmax_train_error[12] err is 306033.963397\n",
      "hardmax_train_error[13] err is 375537.716067\n",
      "hardmax_train_error[14] err is 349952.670983\n",
      "hardmax_train_error[15] err is 380053.58957\n",
      "hardmax_train_error[16] err is 376511.954318\n",
      "hardmax_train_error[17] err is 300341.715814\n",
      "hardmax_train_error[18] err is 334214.689888\n",
      "hardmax_train_error[19] err is 416347.060876\n",
      "hardmax_train_error[20] err is 325201.476376\n",
      "hardmax_train_error[21] err is 338144.932306\n",
      "hardmax_train_error[22] err is 338085.142883\n",
      "\n",
      "Total 3796672.55994\n",
      "softmax_test_error[0] err is 276639.883573\n",
      "softmax_test_error[1] err is 356793.443068\n",
      "softmax_test_error[2] err is 360720.991695\n",
      "softmax_test_error[3] err is 349209.138435\n",
      "softmax_test_error[4] err is 340370.138869\n",
      "softmax_test_error[5] err is 374783.470578\n",
      "softmax_test_error[6] err is 339103.629011\n",
      "softmax_test_error[7] err is 356530.857387\n",
      "softmax_test_error[8] err is 296404.481101\n",
      "softmax_test_error[9] err is 347921.399433\n",
      "softmax_test_error[10] err is 398195.126786\n",
      "\n",
      "Total 3784374.27797\n",
      "hardmax_test_error[0] err is 276038.000529\n",
      "hardmax_test_error[1] err is 356183.254081\n",
      "hardmax_test_error[2] err is 360689.347772\n",
      "hardmax_test_error[3] err is 330810.359596\n",
      "hardmax_test_error[4] err is 340164.89988\n",
      "hardmax_test_error[5] err is 378688.038093\n",
      "hardmax_test_error[6] err is 346650.099196\n",
      "hardmax_test_error[7] err is 356675.588185\n",
      "hardmax_test_error[8] err is 297556.079991\n",
      "hardmax_test_error[9] err is 347921.399433\n",
      "hardmax_test_error[10] err is 392997.211211\n"
     ]
    }
   ],
   "source": [
    "print_errors(res[\"total_loss_traind_train\"], \"sofmax_train_error\")\n",
    "print_errors(res[\"total_loss_traind_test\"], \"hardmax_train_error\")\n",
    "print_errors(res[\"total_loss_testd_train\"], \"softmax_test_error\")\n",
    "print_errors(res[\"total_loss_testd_test\"], \"hardmax_test_error\")"
   ]
  },
  {
   "cell_type": "code",
   "execution_count": null,
   "metadata": {
    "collapsed": false,
    "deletable": true,
    "editable": true,
    "scrolled": true
   },
   "outputs": [],
   "source": [
    "#print_matrix(res[\"total_loss_testd_test\"][0], res[\"softmaxes_testd_test\"][0])\n",
    "print_ops_matrix(res[\"total_loss_testd_test\"][0], res[\"softmaxes_testd_test\"][0], cfg[\"used_ops_obj\"])"
   ]
  },
  {
   "cell_type": "code",
   "execution_count": null,
   "metadata": {
    "collapsed": false,
    "deletable": true,
    "editable": true
   },
   "outputs": [],
   "source": [
    "#print_matrix(res[\"total_loss_traind_test\"][1], res[\"softmaxes_traind_test\"][1])\n",
    "print_ops_matrix(res[\"total_loss_testd_test\"][0], res[\"softmaxes_testd_test_mem\"][0], cfg[\"used_ops_obj\"])"
   ]
  },
  {
   "cell_type": "code",
   "execution_count": null,
   "metadata": {
    "collapsed": false,
    "deletable": true,
    "editable": true
   },
   "outputs": [],
   "source": [
    "print_matrix(res[\"total_loss_testd_test\"][0], res[\"outputs_testd_train\"][0])"
   ]
  },
  {
   "cell_type": "code",
   "execution_count": null,
   "metadata": {
    "collapsed": false,
    "deletable": true,
    "editable": true
   },
   "outputs": [],
   "source": [
    "wrong_res = np.nonzero(np.round(np.apply_along_axis(np_add, 1, res[\"outputs_testd_train\"][0][4] - res[\"batchesY_test\"][0]), 2))[0]\n",
    "wrong_res "
   ]
  },
  {
   "cell_type": "code",
   "execution_count": null,
   "metadata": {
    "collapsed": false,
    "deletable": true,
    "editable": true
   },
   "outputs": [],
   "source": [
    "print_ops_matrix(res[\"total_loss_testd_test\"][0], res[\"softmaxes_testd_test\"][0], cfg[\"used_ops_obj\"], wrong_res)"
   ]
  },
  {
   "cell_type": "code",
   "execution_count": null,
   "metadata": {
    "collapsed": false,
    "deletable": true,
    "editable": true
   },
   "outputs": [],
   "source": [
    "print_ops_matrix(res[\"total_loss_testd_test\"][0], res[\"softmaxes_testd_test_mem\"][0], cfg[\"used_ops_obj\"], wrong_res)"
   ]
  },
  {
   "cell_type": "code",
   "execution_count": null,
   "metadata": {
    "collapsed": false,
    "deletable": true,
    "editable": true
   },
   "outputs": [],
   "source": [
    "#print_matrix(res[\"total_loss_traind_train\"][1], res[\"softmaxes_traind_train_mem\"][1])\n",
    "print_ops_matrix(res[\"total_loss_testd_test\"][0], res[\"softmaxes_testd_test_mem\"][0], cfg[\"used_ops_obj\"])"
   ]
  },
  {
   "cell_type": "code",
   "execution_count": null,
   "metadata": {
    "collapsed": false,
    "deletable": true,
    "editable": true
   },
   "outputs": [],
   "source": [
    "print_matrix(res[\"total_loss_testd_test\"][0], res[\"outputs_testd_test_mem\"][0])"
   ]
  },
  {
   "cell_type": "code",
   "execution_count": null,
   "metadata": {
    "collapsed": false,
    "deletable": true,
    "editable": true,
    "scrolled": true
   },
   "outputs": [],
   "source": [
    "res[\"batchesX_test\"][0]"
   ]
  },
  {
   "cell_type": "code",
   "execution_count": null,
   "metadata": {
    "collapsed": false,
    "deletable": true,
    "editable": true,
    "scrolled": false
   },
   "outputs": [],
   "source": [
    "seed = 10000\n",
    "x,y = samples_generator(cfg['train_fn'], (cfg['num_samples'], cfg['num_features']) , cfg['samples_value_rng'], seed)\n",
    "x_train, x_test, y_train, y_test = split_train_test (x, y , cfg['test_ratio'])\n",
    "res = predict_form_sess(model, cfg, x_test[0:100,], last_hardmax_state_train, model_path, mode=\"hard\")"
   ]
  },
  {
   "cell_type": "code",
   "execution_count": null,
   "metadata": {
    "collapsed": false,
    "deletable": true,
    "editable": true,
    "scrolled": true
   },
   "outputs": [],
   "source": [
    "res - y_test[0:100,]"
   ]
  },
  {
   "cell_type": "code",
   "execution_count": null,
   "metadata": {
    "collapsed": false,
    "deletable": true,
    "editable": true,
    "scrolled": true
   },
   "outputs": [],
   "source": [
    "y_test[0:100,]"
   ]
  },
  {
   "cell_type": "code",
   "execution_count": null,
   "metadata": {
    "collapsed": false,
    "deletable": true,
    "editable": true
   },
   "outputs": [],
   "source": [
    "res"
   ]
  },
  {
   "cell_type": "code",
   "execution_count": null,
   "metadata": {
    "collapsed": false,
    "deletable": true,
    "editable": true
   },
   "outputs": [],
   "source": [
    "len(res[\"softmaxes_traind_train\"])"
   ]
  },
  {
   "cell_type": "code",
   "execution_count": null,
   "metadata": {
    "collapsed": true,
    "deletable": true,
    "editable": true
   },
   "outputs": [],
   "source": []
  }
 ],
 "metadata": {
  "kernelspec": {
   "display_name": "Python 3",
   "language": "python",
   "name": "python3"
  },
  "language_info": {
   "codemirror_mode": {
    "name": "ipython",
    "version": 3
   },
   "file_extension": ".py",
   "mimetype": "text/x-python",
   "name": "python",
   "nbconvert_exporter": "python",
   "pygments_lexer": "ipython3",
   "version": "3.4.3"
  }
 },
 "nbformat": 4,
 "nbformat_minor": 2
}
