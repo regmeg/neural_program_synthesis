{
 "cells": [
  {
   "cell_type": "code",
   "execution_count": null,
   "metadata": {
    "collapsed": false,
    "deletable": true,
    "editable": true
   },
   "outputs": [
    {
     "name": "stdout",
     "output_type": "stream",
     "text": [
      "timestep 0\n",
      "timestep 1\n",
      "timestep 2\n",
      "timestep 0\n",
      "timestep 1\n",
      "timestep 2\n",
      "[<tf.Variable 'RNN_mem/Params/W_mem:0' shape=(54, 50) dtype=float64_ref>, <tf.Variable 'RNN_mem/Params/b_mem:0' shape=(50,) dtype=float64_ref>, <tf.Variable 'RNN_mem/Params/W2_mem:0' shape=(50, 4) dtype=float64_ref>, <tf.Variable 'RNN_mem/Params/b2_mem:0' shape=(4,) dtype=float64_ref>, <tf.Variable 'RNN_op/Params/W:0' shape=(54, 50) dtype=float64_ref>, <tf.Variable 'RNN_op/Params/b:0' shape=(50,) dtype=float64_ref>, <tf.Variable 'RNN_op/Params/W2:0' shape=(50, 4) dtype=float64_ref>, <tf.Variable 'RNN_op/Params/b2:0' shape=(4,) dtype=float64_ref>]\n",
      "norming the grads\n",
      "grads are\n",
      "[<tf.Tensor 'RNN_op/Grads/clip_by_global_norm/RNN_op/Grads/clip_by_global_norm/_0:0' shape=(54, 50) dtype=float64>, <tf.Tensor 'RNN_op/Grads/clip_by_global_norm/RNN_op/Grads/clip_by_global_norm/_1:0' shape=(50,) dtype=float64>, <tf.Tensor 'RNN_op/Grads/clip_by_global_norm/RNN_op/Grads/clip_by_global_norm/_2:0' shape=(50, 4) dtype=float64>, <tf.Tensor 'RNN_op/Grads/clip_by_global_norm/RNN_op/Grads/clip_by_global_norm/_3:0' shape=(4,) dtype=float64>, <tf.Tensor 'RNN_op/Grads/clip_by_global_norm/RNN_op/Grads/clip_by_global_norm/_4:0' shape=(54, 50) dtype=float64>, <tf.Tensor 'RNN_op/Grads/clip_by_global_norm/RNN_op/Grads/clip_by_global_norm/_5:0' shape=(50,) dtype=float64>, <tf.Tensor 'RNN_op/Grads/clip_by_global_norm/RNN_op/Grads/clip_by_global_norm/_6:0' shape=(50, 4) dtype=float64>, <tf.Tensor 'RNN_op/Grads/clip_by_global_norm/RNN_op/Grads/clip_by_global_norm/_7:0' shape=(4,) dtype=float64>]\n",
      "num batches train: 10\n",
      "num batches test: 4\n",
      "INFO:tensorflow:Restoring parameters from /home/user/neural_program_synthesis/models/summaries/RNN/np_avg_val-3ops/state_size_50-num_samples_1500-batch_size_100-learning_rate_0.001-epsilon_0.001-loss_weight_0.5-num_features_4-norm_True-grad_norm_1000.0-clip_False-share_state_True-rnns_same_state_False-seed_43396//model/-22200\n"
     ]
    }
   ],
   "source": [
    "import pprint\n",
    "import os\n",
    "import sys\n",
    "import numpy as np\n",
    "from params import get_cfg\n",
    "from rnn_base import RNN\n",
    "from mem_sel_rnn import MemRNN\n",
    "from ops import Operations\n",
    "from session import *\n",
    "from data_gen import samples_generator, split_train_test\n",
    "import pickle\n",
    "from data_gen import samples_generator, split_train_test\n",
    "\n",
    "name = 'state_size_50-num_samples_1500-batch_size_100-learning_rate_0.001-epsilon_0.001-loss_weight_0.5-num_features_4-norm_True-grad_norm_1000.0-clip_False-share_state_True-rnns_same_state_False-seed_43396'\n",
    "path = '/home/user/neural_program_synthesis/models/summaries/RNN/np_avg_val-3ops/'+name+'/'\n",
    "#get the global configuration\n",
    "cfg_path = path+'cfg.p'\n",
    "cfg = pickle.load(open(cfg_path, 'rb'))\n",
    "#instantiate containter with the operations avail for the selection\n",
    "ops = Operations(cfg)\n",
    "#generate data \n",
    "x,y = samples_generator(cfg['train_fn'], (cfg['num_samples'], cfg['num_features']) , cfg['samples_value_rng'], cfg['seed'])\n",
    "x_train, x_test, y_train, y_test = split_train_test (x, y , cfg['test_ratio'])\n",
    "#instantiate the mem\n",
    "mem = MemRNN(cfg, ops)\n",
    "# instanitae the model graph\n",
    "model = RNN(cfg, ops, mem)\n",
    "#restore with given path\n",
    "model_path = path+'/model'\n",
    "res = restore_selection_matrixes2RNNS(model, cfg, x_train, x_test, y_train, y_test, model_path)"
   ]
  },
  {
   "cell_type": "code",
   "execution_count": null,
   "metadata": {
    "collapsed": false
   },
   "outputs": [],
   "source": [
    "model.batchX_placeholder"
   ]
  },
  {
   "cell_type": "code",
   "execution_count": null,
   "metadata": {
    "collapsed": false,
    "deletable": true,
    "editable": true
   },
   "outputs": [],
   "source": [
    "def print_errors(error_lst, name):\n",
    "    print(\"\")\n",
    "    for i, error in enumerate(error_lst):\n",
    "        print(name + \"[\" + str(i) + \"] err is \" + str(error))"
   ]
  },
  {
   "cell_type": "code",
   "execution_count": null,
   "metadata": {
    "collapsed": false,
    "deletable": true,
    "editable": true
   },
   "outputs": [],
   "source": [
    "def print_matrix(total_error, matrix_lst):\n",
    "    np.set_printoptions(precision=3, suppress=True)\n",
    "    print(\"Error for this matrix is\", total_error)\n",
    "    for elem in range(len(matrix_lst[0])):\n",
    "        print(\"\\n##Elem-\"+str(elem)+\"--#############################################################\")        \n",
    "        for matrix in matrix_lst:\n",
    "            print(matrix[elem], end=\" \")\n",
    "       "
   ]
  },
  {
   "cell_type": "code",
   "execution_count": null,
   "metadata": {
    "collapsed": false,
    "deletable": true,
    "editable": true
   },
   "outputs": [],
   "source": [
    "print_errors(res[\"total_loss_traind_train\"], \"sofmax_train_error\")\n",
    "print_errors(res[\"total_loss_traind_test\"], \"hardmax_train_error\")\n",
    "print_errors(res[\"total_loss_testd_train\"], \"softmax_test_error\")\n",
    "print_errors(res[\"total_loss_testd_test\"], \"hardmax_test_error\")"
   ]
  },
  {
   "cell_type": "code",
   "execution_count": null,
   "metadata": {
    "collapsed": false,
    "deletable": true,
    "editable": true,
    "scrolled": true
   },
   "outputs": [],
   "source": [
    "print_matrix(res[\"total_loss_traind_train\"][0], res[\"softmaxes_traind_train\"][0])"
   ]
  },
  {
   "cell_type": "code",
   "execution_count": null,
   "metadata": {
    "collapsed": false,
    "deletable": true,
    "editable": true
   },
   "outputs": [],
   "source": [
    "print_matrix(res[\"total_loss_traind_test\"][0], res[\"softmaxes_traind_test\"][0])"
   ]
  },
  {
   "cell_type": "code",
   "execution_count": null,
   "metadata": {
    "collapsed": false,
    "deletable": true,
    "editable": true
   },
   "outputs": [],
   "source": [
    "print_matrix(res[\"total_loss_traind_test\"][0], res[\"softmaxes_traind_test_mem\"][0])"
   ]
  },
  {
   "cell_type": "code",
   "execution_count": null,
   "metadata": {
    "collapsed": false,
    "deletable": true,
    "editable": true,
    "scrolled": false
   },
   "outputs": [],
   "source": [
    "seed = 10000\n",
    "x,y = samples_generator(cfg['train_fn'], (cfg['num_samples'], cfg['num_features']) , cfg['samples_value_rng'], seed)\n",
    "x_train, x_test, y_train, y_test = split_train_test (x, y , cfg['test_ratio'])\n",
    "res = predict_form_sess(model, cfg, x_test[0:100,], last_hardmax_state_train, model_path, mode=\"hard\")"
   ]
  },
  {
   "cell_type": "code",
   "execution_count": null,
   "metadata": {
    "collapsed": false,
    "deletable": true,
    "editable": true,
    "scrolled": true
   },
   "outputs": [],
   "source": [
    "res - y_test[0:100,]"
   ]
  },
  {
   "cell_type": "code",
   "execution_count": null,
   "metadata": {
    "collapsed": false,
    "deletable": true,
    "editable": true,
    "scrolled": true
   },
   "outputs": [],
   "source": [
    "y_test[0:100,]"
   ]
  },
  {
   "cell_type": "code",
   "execution_count": null,
   "metadata": {
    "collapsed": false,
    "deletable": true,
    "editable": true
   },
   "outputs": [],
   "source": [
    "res"
   ]
  },
  {
   "cell_type": "code",
   "execution_count": null,
   "metadata": {
    "collapsed": false,
    "deletable": true,
    "editable": true
   },
   "outputs": [],
   "source": [
    "len(res[\"softmaxes_traind_train\"])"
   ]
  },
  {
   "cell_type": "code",
   "execution_count": null,
   "metadata": {
    "collapsed": true,
    "deletable": true,
    "editable": true
   },
   "outputs": [],
   "source": []
  }
 ],
 "metadata": {
  "kernelspec": {
   "display_name": "Python 3",
   "language": "python",
   "name": "python3"
  },
  "language_info": {
   "codemirror_mode": {
    "name": "ipython",
    "version": 3
   },
   "file_extension": ".py",
   "mimetype": "text/x-python",
   "name": "python",
   "nbconvert_exporter": "python",
   "pygments_lexer": "ipython3",
   "version": "3.4.3"
  }
 },
 "nbformat": 4,
 "nbformat_minor": 2
}
