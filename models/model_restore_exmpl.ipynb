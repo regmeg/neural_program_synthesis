{
 "cells": [
  {
   "cell_type": "code",
   "execution_count": 1,
   "metadata": {
    "collapsed": false,
    "deletable": true,
    "editable": true
   },
   "outputs": [
    {
     "name": "stdout",
     "output_type": "stream",
     "text": [
      "timestep 0\n",
      "timestep 1\n",
      "timestep 2\n",
      "timestep 3\n",
      "timestep 4\n",
      "timestep 0\n",
      "timestep 1\n",
      "timestep 2\n",
      "timestep 3\n",
      "timestep 4\n",
      "[<tf.Variable 'W:0' shape=(203, 200) dtype=float64_ref>, <tf.Variable 'b:0' shape=(200,) dtype=float64_ref>, <tf.Variable 'W2:0' shape=(200, 3) dtype=float64_ref>, <tf.Variable 'b2:0' shape=(3,) dtype=float64_ref>]\n",
      "norming the grads\n",
      "grads are\n",
      "[<tf.Tensor 'clip_by_global_norm/clip_by_global_norm/_0:0' shape=(203, 200) dtype=float64>, <tf.Tensor 'clip_by_global_norm/clip_by_global_norm/_1:0' shape=(200,) dtype=float64>, <tf.Tensor 'clip_by_global_norm/clip_by_global_norm/_2:0' shape=(200, 3) dtype=float64>, <tf.Tensor 'clip_by_global_norm/clip_by_global_norm/_3:0' shape=(3,) dtype=float64>]\n",
      "num batches train: 10\n",
      "num batches test: 4\n",
      "INFO:tensorflow:Restoring parameters from /home/user/neural_program_synthesis/models/summaries/RNN/np_mult-5ops/200_state_size-1500_num_samples-100_batch_size-0.005_learning_rate-1000.0_grad_norm-3_num_features-True_norm//model/-3000\n"
     ]
    }
   ],
   "source": [
    "import pprint\n",
    "import os\n",
    "import sys\n",
    "import numpy as np\n",
    "from params import get_cfg\n",
    "from rnn_base import RNN\n",
    "from ops import Operations\n",
    "from session import run_session, restore_selection_matrixes\n",
    "from data_gen import samples_generator, split_train_test\n",
    "import tensorflow as tf\n",
    "import pickle\n",
    "\n",
    "path = '/home/user/neural_program_synthesis/models/summaries/RNN/np_mult-5ops/200_state_size-1500_num_samples-100_batch_size-0.005_learning_rate-1000.0_grad_norm-3_num_features-True_norm/'\n",
    "#get the global configuration\n",
    "cfg_path = path+'cfg.p'\n",
    "cfg = pickle.load(open(cfg_path, 'rb'))\n",
    "cfg['share_state'] = True\n",
    "#instantiate containter with the operations avail for the selection\n",
    "ops = Operations(cfg)\n",
    "#reset graph so that tf dont complain about not found vars\n",
    "tf.reset_default_graph()\n",
    "#generate data \n",
    "x,y = samples_generator(cfg['train_fn'], (cfg['num_samples'], cfg['num_features']) , cfg['samples_value_rng'], cfg['seed'])\n",
    "x_train, x_test, y_train, y_test = split_train_test (x, y , cfg['test_ratio'])\n",
    "# instanitae the model graph\n",
    "model = RNN(cfg, ops)\n",
    "#restore with given path\n",
    "model_path = path+'/model'\n",
    "total_loss_traind_train, softmaxes_traind_train, total_loss_traind_test, softmaxes_traind_test, total_loss_testd_train, softmaxes_testd_train, total_loss_testd_test, softmaxes_testd_test, last_softmax_state_train, last_hardmax_state_train, last_softmax_state_test, last_hardmax_state_test = restore_selection_matrixes(model, cfg, x_train, x_test, y_train, y_test, model_path)"
   ]
  },
  {
   "cell_type": "code",
   "execution_count": 2,
   "metadata": {
    "collapsed": false
   },
   "outputs": [],
   "source": [
    "def print_errors(error_lst, name):\n",
    "    print(\"\")\n",
    "    for i, error in enumerate(error_lst):\n",
    "        print(name + \"[\" + str(i) + \"] err is \" + str(error))"
   ]
  },
  {
   "cell_type": "code",
   "execution_count": 3,
   "metadata": {
    "collapsed": false
   },
   "outputs": [],
   "source": [
    "def print_matrix(total_error, matrix_lst):\n",
    "    np.set_printoptions(precision=3, suppress=True)\n",
    "    print(\"Error for this matrix is\", total_error)\n",
    "    for elem in range(len(matrix_lst[0])):\n",
    "        print(\"\\n##Elem-\"+str(elem)+\"--#############################################################\")        \n",
    "        for matrix in matrix_lst:\n",
    "            print(matrix[elem], end=\" \")\n",
    "       "
   ]
  },
  {
   "cell_type": "code",
   "execution_count": 4,
   "metadata": {
    "collapsed": false
   },
   "outputs": [
    {
     "name": "stdout",
     "output_type": "stream",
     "text": [
      "\n",
      "sofmax_train_error[0] err is 2.71937637159e-06\n",
      "sofmax_train_error[1] err is 2.17653786887e-08\n",
      "sofmax_train_error[2] err is 3.13905000463e-09\n",
      "sofmax_train_error[3] err is 4.63081495882e-08\n",
      "sofmax_train_error[4] err is 6.47408677682e-08\n",
      "sofmax_train_error[5] err is 7.31552021061e-08\n",
      "sofmax_train_error[6] err is 4.42319412278e-08\n",
      "sofmax_train_error[7] err is 1.14407360572e-07\n",
      "sofmax_train_error[8] err is 8.62211731218e-08\n",
      "sofmax_train_error[9] err is 5.29686961484e-08\n",
      "\n",
      "hardmax_train_error[0] err is 0.0\n",
      "hardmax_train_error[1] err is 0.0\n",
      "hardmax_train_error[2] err is 0.0\n",
      "hardmax_train_error[3] err is 0.0\n",
      "hardmax_train_error[4] err is 0.0\n",
      "hardmax_train_error[5] err is 0.0\n",
      "hardmax_train_error[6] err is 0.0\n",
      "hardmax_train_error[7] err is 0.0\n",
      "hardmax_train_error[8] err is 0.0\n",
      "hardmax_train_error[9] err is 0.0\n",
      "\n",
      "softmax_test_error[0] err is 0.000316839252568\n",
      "softmax_test_error[1] err is 2.84479345675e-06\n",
      "softmax_test_error[2] err is 0.023247857207\n",
      "softmax_test_error[3] err is 1.24712998939e-07\n",
      "\n",
      "hardmax_test_error[0] err is 0.0\n",
      "hardmax_test_error[1] err is 0.0\n",
      "hardmax_test_error[2] err is 0.0\n",
      "hardmax_test_error[3] err is 0.0\n"
     ]
    }
   ],
   "source": [
    "print_errors(total_loss_traind_train, \"sofmax_train_error\")\n",
    "print_errors(total_loss_traind_test, \"hardmax_train_error\")\n",
    "print_errors(total_loss_testd_train, \"softmax_test_error\")\n",
    "print_errors(total_loss_testd_test, \"hardmax_test_error\")"
   ]
  },
  {
   "cell_type": "code",
   "execution_count": null,
   "metadata": {
    "collapsed": true
   },
   "outputs": [],
   "source": []
  }
 ],
 "metadata": {
  "kernelspec": {
   "display_name": "Python 3",
   "language": "python",
   "name": "python3"
  },
  "language_info": {
   "codemirror_mode": {
    "name": "ipython",
    "version": 3
   },
   "file_extension": ".py",
   "mimetype": "text/x-python",
   "name": "python",
   "nbconvert_exporter": "python",
   "pygments_lexer": "ipython3",
   "version": "3.4.3"
  }
 },
 "nbformat": 4,
 "nbformat_minor": 2
}
