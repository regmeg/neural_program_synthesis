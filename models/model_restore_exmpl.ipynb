{
 "cells": [
  {
   "cell_type": "code",
   "execution_count": 1,
   "metadata": {
    "collapsed": false,
    "deletable": true,
    "editable": true
   },
   "outputs": [
    {
     "name": "stdout",
     "output_type": "stream",
     "text": [
      "timestep 0\n",
      "timestep 1\n",
      "timestep 2\n",
      "timestep 3\n",
      "timestep 4\n",
      "timestep 0\n",
      "timestep 1\n",
      "timestep 2\n",
      "timestep 3\n",
      "timestep 4\n",
      "[<tf.Variable 'RNN_mem/Params/W_mem:0' shape=(410, 400) dtype=float64_ref>, <tf.Variable 'RNN_mem/Params/b_mem:0' shape=(400,) dtype=float64_ref>, <tf.Variable 'RNN_mem/Params/W2_mem:0' shape=(400, 4) dtype=float64_ref>, <tf.Variable 'RNN_mem/Params/b2_mem:0' shape=(4,) dtype=float64_ref>, <tf.Variable 'RNN_op/Params/W:0' shape=(410, 400) dtype=float64_ref>, <tf.Variable 'RNN_op/Params/b:0' shape=(400,) dtype=float64_ref>, <tf.Variable 'RNN_op/Params/W2:0' shape=(400, 4) dtype=float64_ref>, <tf.Variable 'RNN_op/Params/b2:0' shape=(4,) dtype=float64_ref>]\n",
      "norming the grads\n",
      "grads are\n",
      "[<tf.Tensor 'RNN_op/Grads/clip_by_global_norm/RNN_op/Grads/clip_by_global_norm/_0:0' shape=(410, 400) dtype=float64>, <tf.Tensor 'RNN_op/Grads/clip_by_global_norm/RNN_op/Grads/clip_by_global_norm/_1:0' shape=(400,) dtype=float64>, <tf.Tensor 'RNN_op/Grads/clip_by_global_norm/RNN_op/Grads/clip_by_global_norm/_2:0' shape=(400, 4) dtype=float64>, <tf.Tensor 'RNN_op/Grads/clip_by_global_norm/RNN_op/Grads/clip_by_global_norm/_3:0' shape=(4,) dtype=float64>, <tf.Tensor 'RNN_op/Grads/clip_by_global_norm/RNN_op/Grads/clip_by_global_norm/_4:0' shape=(410, 400) dtype=float64>, <tf.Tensor 'RNN_op/Grads/clip_by_global_norm/RNN_op/Grads/clip_by_global_norm/_5:0' shape=(400,) dtype=float64>, <tf.Tensor 'RNN_op/Grads/clip_by_global_norm/RNN_op/Grads/clip_by_global_norm/_6:0' shape=(400, 4) dtype=float64>, <tf.Tensor 'RNN_op/Grads/clip_by_global_norm/RNN_op/Grads/clip_by_global_norm/_7:0' shape=(4,) dtype=float64>]\n",
      "norm is \n",
      "Tensor(\"RNN_op/Grads/global_norm/global_norm:0\", shape=(), dtype=float64)\n",
      "num batches train: 23\n",
      "num batches test: 11\n",
      "INFO:tensorflow:Restoring parameters from /home/user/neural_program_synthesis/models/summaries/RNN/np_avg_val-5ops/state_size_400-num_samples_3500-batch_size_100-learning_rate_0.001-epsilon_0.001-num_features_10-norm_True-softmax_sat_1-clip_False-share_state_True-rnns_same_state_False-state_fn_relu-pen_sofmax_True-smax_pen_r_0.2-seed_24975//model/-3000\n"
     ]
    }
   ],
   "source": [
    "import pprint\n",
    "import os\n",
    "import sys\n",
    "import numpy as np\n",
    "from params import get_cfg\n",
    "from rnn_base import RNN\n",
    "from mem_sel_rnn import MemRNN\n",
    "from rnn_base import RNN\n",
    "from history_rnn import HistoryRNN\n",
    "from op_selector import OpSel\n",
    "from mem_selector import MemSel\n",
    "from ops import Operations\n",
    "from session import *\n",
    "from data_gen import samples_generator, split_train_test\n",
    "import pickle\n",
    "from data_gen import samples_generator, split_train_test\n",
    "\n",
    "modelName = 'RNN'\n",
    "func = 'np_avg_val-5ops'\n",
    "name = 'state_size_400-num_samples_3500-batch_size_100-learning_rate_0.001-epsilon_0.001-num_features_10-norm_True-softmax_sat_1-clip_False-share_state_True-rnns_same_state_False-state_fn_relu-pen_sofmax_True-smax_pen_r_0.2-seed_24975'\n",
    "path = '/home/user/neural_program_synthesis/models/summaries/'+modelName+'/'+func+'/'+name+'/'\n",
    "model_path = path+'/model'\n",
    "#get the global configuration\n",
    "cfg_path = path+'cfg.p'\n",
    "cfg = pickle.load(open(cfg_path, 'rb'))\n",
    "#instantiate containter with the operations avail for the selection\n",
    "ops = Operations(cfg)\n",
    "ops.ops = cfg[\"used_ops_obj\"]\n",
    "ops.num_of_ops = len(ops.ops)\n",
    "#generate data \n",
    "x,y = samples_generator(cfg['train_fn'], (cfg['num_samples'], cfg['num_features']) , cfg['samples_value_rng'], cfg['seed'])\n",
    "x_train, x_test, y_train, y_test = split_train_test (x, y , cfg['test_ratio'])\n",
    "\n",
    "if modelName == \"RNN\":\n",
    "        #instantiante the mem selection RNN\n",
    "        mem = MemRNN(cfg, ops)\n",
    "        # instanitae the model graph with the main OP selection RNN\n",
    "        model = RNN(cfg, ops, mem)\n",
    "        res = restore_selection_matrixes2RNNS(model, cfg, x_train, x_test, y_train, y_test, model_path)\n",
    "elif modelName == \"HistoryRNN\":\n",
    "        #instantiante the mem and op selection\n",
    "        mem_sel = MemSel(cfg, ops)\n",
    "        op_sel = OpSel(cfg, ops)\n",
    "        # instanitae the model graph with the main OP selection RNN\n",
    "        model = HistoryRNN(cfg, ops, mem_sel, op_sel)\n",
    "        res = restore_selection_matrixes_HistoryRNNS(model, cfg, x_train, x_test, y_train, y_test, model_path)"
   ]
  },
  {
   "cell_type": "code",
   "execution_count": 2,
   "metadata": {
    "collapsed": false,
    "deletable": true,
    "editable": true
   },
   "outputs": [],
   "source": [
    "def print_errors(error_lst, name):\n",
    "    print(\"\")\n",
    "    for i, error in enumerate(error_lst):\n",
    "        print(name + \"[\" + str(i) + \"] err is \" + str(error))"
   ]
  },
  {
   "cell_type": "code",
   "execution_count": 3,
   "metadata": {
    "collapsed": false,
    "deletable": true,
    "editable": true
   },
   "outputs": [],
   "source": [
    "def print_matrix(total_error, matrix_lst):\n",
    "    np.set_printoptions(precision=3, suppress=True)\n",
    "    print(\"Error for this matrix is\", total_error)\n",
    "    for elem in range(len(matrix_lst[0])):\n",
    "        print(\"\\n##Elem-\"+str(elem)+\"--#############################################################\")        \n",
    "        for matrix in matrix_lst:\n",
    "            print(matrix[elem], end=\" \")\n",
    "       "
   ]
  },
  {
   "cell_type": "code",
   "execution_count": 4,
   "metadata": {
    "collapsed": false,
    "deletable": true,
    "editable": true
   },
   "outputs": [],
   "source": [
    "def print_ops_matrix(total_error, matrix_lst, ops_list):\n",
    "    np.set_printoptions(precision=3, suppress=True)\n",
    "    print(\"Error for this matrix is\", total_error)\n",
    "    for elem in range(len(matrix_lst[0])):\n",
    "        print(\"\\n##Elem-\"+str(elem)+\"--#############################################################\")        \n",
    "        for matrix in matrix_lst:\n",
    "            index = np.argmax(matrix[elem])\n",
    "            op_name = ops_list[index].__name__\n",
    "            print(\"[ \"+op_name+\" ]\", end=\" \")\n",
    "            "
   ]
  },
  {
   "cell_type": "code",
   "execution_count": 5,
   "metadata": {
    "collapsed": false,
    "deletable": true,
    "editable": true
   },
   "outputs": [
    {
     "name": "stdout",
     "output_type": "stream",
     "text": [
      "\n",
      "sofmax_train_error[0] err is 25666.3122458\n",
      "sofmax_train_error[1] err is 50252.9510372\n",
      "sofmax_train_error[2] err is 23825.7976059\n",
      "sofmax_train_error[3] err is 43483.4188541\n",
      "sofmax_train_error[4] err is 23715.5384432\n",
      "sofmax_train_error[5] err is 46094.5660853\n",
      "sofmax_train_error[6] err is 21472.9489641\n",
      "sofmax_train_error[7] err is 45622.6241733\n",
      "sofmax_train_error[8] err is 25717.0740528\n",
      "sofmax_train_error[9] err is 49647.2222023\n",
      "sofmax_train_error[10] err is 24398.2191698\n",
      "sofmax_train_error[11] err is 48462.4622969\n",
      "sofmax_train_error[12] err is 22124.330077\n",
      "sofmax_train_error[13] err is 46173.242681\n",
      "sofmax_train_error[14] err is 20973.7885306\n",
      "sofmax_train_error[15] err is 45860.007876\n",
      "sofmax_train_error[16] err is 21242.9576925\n",
      "sofmax_train_error[17] err is 50094.023621\n",
      "sofmax_train_error[18] err is 20734.9867285\n",
      "sofmax_train_error[19] err is 48076.2977064\n",
      "sofmax_train_error[20] err is 23777.8011196\n",
      "sofmax_train_error[21] err is 48162.5342505\n",
      "sofmax_train_error[22] err is 18290.2761358\n",
      "\n",
      "hardmax_train_error[0] err is 23487.973322\n",
      "hardmax_train_error[1] err is 24614.1716536\n",
      "hardmax_train_error[2] err is 21647.4590062\n",
      "hardmax_train_error[3] err is 17844.6414997\n",
      "hardmax_train_error[4] err is 21537.1998436\n",
      "hardmax_train_error[5] err is 20393.1421252\n",
      "hardmax_train_error[6] err is 19294.6103645\n",
      "hardmax_train_error[7] err is 19983.8518319\n",
      "hardmax_train_error[8] err is 23538.7354528\n",
      "hardmax_train_error[9] err is 24008.4473977\n",
      "hardmax_train_error[10] err is 22219.8805702\n",
      "hardmax_train_error[11] err is 22823.6112839\n",
      "hardmax_train_error[12] err is 19945.8195806\n",
      "hardmax_train_error[13] err is 20526.5456768\n",
      "hardmax_train_error[14] err is 18761.9471012\n",
      "hardmax_train_error[15] err is 20221.2210033\n",
      "hardmax_train_error[16] err is 19063.7304973\n",
      "hardmax_train_error[17] err is 24455.2488456\n",
      "hardmax_train_error[18] err is 18556.6481288\n",
      "hardmax_train_error[19] err is 22437.5195257\n",
      "hardmax_train_error[20] err is 21599.4624943\n",
      "hardmax_train_error[21] err is 22485.3670394\n",
      "hardmax_train_error[22] err is 16111.9375361\n",
      "\n",
      "softmax_test_error[0] err is 42102.0029002\n",
      "softmax_test_error[1] err is 23660.7220443\n",
      "softmax_test_error[2] err is 46179.7208123\n",
      "softmax_test_error[3] err is 25631.8836022\n",
      "softmax_test_error[4] err is 46254.6900496\n",
      "softmax_test_error[5] err is 23806.6135202\n",
      "softmax_test_error[6] err is 51147.023985\n",
      "softmax_test_error[7] err is 23828.6604967\n",
      "softmax_test_error[8] err is 45486.6032716\n",
      "softmax_test_error[9] err is 21461.4482701\n",
      "softmax_test_error[10] err is 47048.0819982\n",
      "\n",
      "hardmax_test_error[0] err is 16463.0523277\n",
      "hardmax_test_error[1] err is 21482.3834446\n",
      "hardmax_test_error[2] err is 20540.9449032\n",
      "hardmax_test_error[3] err is 23453.5450026\n",
      "hardmax_test_error[4] err is 20615.9109801\n",
      "hardmax_test_error[5] err is 21628.273668\n",
      "hardmax_test_error[6] err is 25508.2463511\n",
      "hardmax_test_error[7] err is 21650.3218971\n",
      "hardmax_test_error[8] err is 19847.8240227\n",
      "hardmax_test_error[9] err is 19283.1096705\n",
      "hardmax_test_error[10] err is 21409.3059002\n"
     ]
    }
   ],
   "source": [
    "print_errors(res[\"total_loss_traind_train\"], \"sofmax_train_error\")\n",
    "print_errors(res[\"total_loss_traind_test\"], \"hardmax_train_error\")\n",
    "print_errors(res[\"total_loss_testd_train\"], \"softmax_test_error\")\n",
    "print_errors(res[\"total_loss_testd_test\"], \"hardmax_test_error\")"
   ]
  },
  {
   "cell_type": "code",
   "execution_count": 6,
   "metadata": {
    "collapsed": false,
    "deletable": true,
    "editable": true,
    "scrolled": true
   },
   "outputs": [
    {
     "name": "stdout",
     "output_type": "stream",
     "text": [
      "Error for this matrix is 50252.9510372\n",
      "\n",
      "##Elem-0--#############################################################\n",
      "[ 1.  0.  0.  0.] [ 1.  0.  0.  0.] [ 1.  0.  0.  0.] [ 1.  0.  0.  0.] [ 1.  0.  0.  0.] \n",
      "##Elem-1--#############################################################\n",
      "[ 1.  0.  0.  0.] [ 1.  0.  0.  0.] [ 1.  0.  0.  0.] [ 1.  0.  0.  0.] [ 1.  0.  0.  0.] \n",
      "##Elem-2--#############################################################\n",
      "[ 1.  0.  0.  0.] [ 1.  0.  0.  0.] [ 1.  0.  0.  0.] [ 1.  0.  0.  0.] [ 1.  0.  0.  0.] \n",
      "##Elem-3--#############################################################\n",
      "[ 1.  0.  0.  0.] [ 1.  0.  0.  0.] [ 1.  0.  0.  0.] [ 1.  0.  0.  0.] [ 1.  0.  0.  0.] \n",
      "##Elem-4--#############################################################\n",
      "[ 1.  0.  0.  0.] [ 1.  0.  0.  0.] [ 1.  0.  0.  0.] [ 1.  0.  0.  0.] [ 1.  0.  0.  0.] \n",
      "##Elem-5--#############################################################\n",
      "[ 1.  0.  0.  0.] [ 1.  0.  0.  0.] [ 1.  0.  0.  0.] [ 1.  0.  0.  0.] [ 1.  0.  0.  0.] \n",
      "##Elem-6--#############################################################\n",
      "[ 1.  0.  0.  0.] [ 1.  0.  0.  0.] [ 1.  0.  0.  0.] [ 1.  0.  0.  0.] [ 1.  0.  0.  0.] \n",
      "##Elem-7--#############################################################\n",
      "[ 1.  0.  0.  0.] [ 1.  0.  0.  0.] [ 1.  0.  0.  0.] [ 1.  0.  0.  0.] [ 1.  0.  0.  0.] \n",
      "##Elem-8--#############################################################\n",
      "[ 1.  0.  0.  0.] [ 1.  0.  0.  0.] [ 1.  0.  0.  0.] [ 1.  0.  0.  0.] [ 1.  0.  0.  0.] \n",
      "##Elem-9--#############################################################\n",
      "[ 1.  0.  0.  0.] [ 1.  0.  0.  0.] [ 1.  0.  0.  0.] [ 1.  0.  0.  0.] [ 1.  0.  0.  0.] \n",
      "##Elem-10--#############################################################\n",
      "[ 1.  0.  0.  0.] [ 1.  0.  0.  0.] [ 1.  0.  0.  0.] [ 1.  0.  0.  0.] [ 1.  0.  0.  0.] \n",
      "##Elem-11--#############################################################\n",
      "[ 1.  0.  0.  0.] [ 1.  0.  0.  0.] [ 1.  0.  0.  0.] [ 1.  0.  0.  0.] [ 1.  0.  0.  0.] \n",
      "##Elem-12--#############################################################\n",
      "[ 1.  0.  0.  0.] [ 1.  0.  0.  0.] [ 1.  0.  0.  0.] [ 1.  0.  0.  0.] [ 1.  0.  0.  0.] \n",
      "##Elem-13--#############################################################\n",
      "[ 1.  0.  0.  0.] [ 1.  0.  0.  0.] [ 1.  0.  0.  0.] [ 1.  0.  0.  0.] [ 1.  0.  0.  0.] \n",
      "##Elem-14--#############################################################\n",
      "[ 1.  0.  0.  0.] [ 1.  0.  0.  0.] [ 1.  0.  0.  0.] [ 1.  0.  0.  0.] [ 1.  0.  0.  0.] \n",
      "##Elem-15--#############################################################\n",
      "[ 1.  0.  0.  0.] [ 1.  0.  0.  0.] [ 1.  0.  0.  0.] [ 1.  0.  0.  0.] [ 1.  0.  0.  0.] \n",
      "##Elem-16--#############################################################\n",
      "[ 1.  0.  0.  0.] [ 1.  0.  0.  0.] [ 1.  0.  0.  0.] [ 1.  0.  0.  0.] [ 1.  0.  0.  0.] \n",
      "##Elem-17--#############################################################\n",
      "[ 1.  0.  0.  0.] [ 1.  0.  0.  0.] [ 1.  0.  0.  0.] [ 1.  0.  0.  0.] [ 1.  0.  0.  0.] \n",
      "##Elem-18--#############################################################\n",
      "[ 1.  0.  0.  0.] [ 1.  0.  0.  0.] [ 1.  0.  0.  0.] [ 1.  0.  0.  0.] [ 1.  0.  0.  0.] \n",
      "##Elem-19--#############################################################\n",
      "[ 1.  0.  0.  0.] [ 1.  0.  0.  0.] [ 1.  0.  0.  0.] [ 1.  0.  0.  0.] [ 1.  0.  0.  0.] \n",
      "##Elem-20--#############################################################\n",
      "[ 1.  0.  0.  0.] [ 1.  0.  0.  0.] [ 1.  0.  0.  0.] [ 1.  0.  0.  0.] [ 1.  0.  0.  0.] \n",
      "##Elem-21--#############################################################\n",
      "[ 1.  0.  0.  0.] [ 1.  0.  0.  0.] [ 1.  0.  0.  0.] [ 1.  0.  0.  0.] [ 1.  0.  0.  0.] \n",
      "##Elem-22--#############################################################\n",
      "[ 1.  0.  0.  0.] [ 1.  0.  0.  0.] [ 1.  0.  0.  0.] [ 1.  0.  0.  0.] [ 1.  0.  0.  0.] \n",
      "##Elem-23--#############################################################\n",
      "[ 1.  0.  0.  0.] [ 1.  0.  0.  0.] [ 1.  0.  0.  0.] [ 1.  0.  0.  0.] [ 1.  0.  0.  0.] \n",
      "##Elem-24--#############################################################\n",
      "[ 1.  0.  0.  0.] [ 1.  0.  0.  0.] [ 1.  0.  0.  0.] [ 1.  0.  0.  0.] [ 1.  0.  0.  0.] \n",
      "##Elem-25--#############################################################\n",
      "[ 1.  0.  0.  0.] [ 1.  0.  0.  0.] [ 1.  0.  0.  0.] [ 1.  0.  0.  0.] [ 1.  0.  0.  0.] \n",
      "##Elem-26--#############################################################\n",
      "[ 1.  0.  0.  0.] [ 1.  0.  0.  0.] [ 1.  0.  0.  0.] [ 1.  0.  0.  0.] [ 1.  0.  0.  0.] \n",
      "##Elem-27--#############################################################\n",
      "[ 1.  0.  0.  0.] [ 1.  0.  0.  0.] [ 1.  0.  0.  0.] [ 1.  0.  0.  0.] [ 1.  0.  0.  0.] \n",
      "##Elem-28--#############################################################\n",
      "[ 1.  0.  0.  0.] [ 1.  0.  0.  0.] [ 1.  0.  0.  0.] [ 1.  0.  0.  0.] [ 1.  0.  0.  0.] \n",
      "##Elem-29--#############################################################\n",
      "[ 1.  0.  0.  0.] [ 1.  0.  0.  0.] [ 1.  0.  0.  0.] [ 1.  0.  0.  0.] [ 1.  0.  0.  0.] \n",
      "##Elem-30--#############################################################\n",
      "[ 1.  0.  0.  0.] [ 1.  0.  0.  0.] [ 1.  0.  0.  0.] [ 1.  0.  0.  0.] [ 1.  0.  0.  0.] \n",
      "##Elem-31--#############################################################\n",
      "[ 1.  0.  0.  0.] [ 1.  0.  0.  0.] [ 1.  0.  0.  0.] [ 1.  0.  0.  0.] [ 1.  0.  0.  0.] \n",
      "##Elem-32--#############################################################\n",
      "[ 1.  0.  0.  0.] [ 1.  0.  0.  0.] [ 1.  0.  0.  0.] [ 1.  0.  0.  0.] [ 1.  0.  0.  0.] \n",
      "##Elem-33--#############################################################\n",
      "[ 1.  0.  0.  0.] [ 1.  0.  0.  0.] [ 1.  0.  0.  0.] [ 1.  0.  0.  0.] [ 1.  0.  0.  0.] \n",
      "##Elem-34--#############################################################\n",
      "[ 1.  0.  0.  0.] [ 1.  0.  0.  0.] [ 1.  0.  0.  0.] [ 1.  0.  0.  0.] [ 1.  0.  0.  0.] \n",
      "##Elem-35--#############################################################\n",
      "[ 1.  0.  0.  0.] [ 1.  0.  0.  0.] [ 1.  0.  0.  0.] [ 1.  0.  0.  0.] [ 1.  0.  0.  0.] \n",
      "##Elem-36--#############################################################\n",
      "[ 1.  0.  0.  0.] [ 1.  0.  0.  0.] [ 1.  0.  0.  0.] [ 1.  0.  0.  0.] [ 1.  0.  0.  0.] \n",
      "##Elem-37--#############################################################\n",
      "[ 1.  0.  0.  0.] [ 1.  0.  0.  0.] [ 1.  0.  0.  0.] [ 1.  0.  0.  0.] [ 1.  0.  0.  0.] \n",
      "##Elem-38--#############################################################\n",
      "[ 1.  0.  0.  0.] [ 1.  0.  0.  0.] [ 1.  0.  0.  0.] [ 1.  0.  0.  0.] [ 1.  0.  0.  0.] \n",
      "##Elem-39--#############################################################\n",
      "[ 1.  0.  0.  0.] [ 1.  0.  0.  0.] [ 1.  0.  0.  0.] [ 1.  0.  0.  0.] [ 1.  0.  0.  0.] \n",
      "##Elem-40--#############################################################\n",
      "[ 1.  0.  0.  0.] [ 1.  0.  0.  0.] [ 1.  0.  0.  0.] [ 1.  0.  0.  0.] [ 1.  0.  0.  0.] \n",
      "##Elem-41--#############################################################\n",
      "[ 1.  0.  0.  0.] [ 1.  0.  0.  0.] [ 1.  0.  0.  0.] [ 1.  0.  0.  0.] [ 1.  0.  0.  0.] \n",
      "##Elem-42--#############################################################\n",
      "[ 1.  0.  0.  0.] [ 1.  0.  0.  0.] [ 1.  0.  0.  0.] [ 1.  0.  0.  0.] [ 1.  0.  0.  0.] \n",
      "##Elem-43--#############################################################\n",
      "[ 1.  0.  0.  0.] [ 1.  0.  0.  0.] [ 1.  0.  0.  0.] [ 1.  0.  0.  0.] [ 1.  0.  0.  0.] \n",
      "##Elem-44--#############################################################\n",
      "[ 1.  0.  0.  0.] [ 1.  0.  0.  0.] [ 1.  0.  0.  0.] [ 1.  0.  0.  0.] [ 1.  0.  0.  0.] \n",
      "##Elem-45--#############################################################\n",
      "[ 1.  0.  0.  0.] [ 1.  0.  0.  0.] [ 1.  0.  0.  0.] [ 1.  0.  0.  0.] [ 1.  0.  0.  0.] \n",
      "##Elem-46--#############################################################\n",
      "[ 1.  0.  0.  0.] [ 1.  0.  0.  0.] [ 1.  0.  0.  0.] [ 1.  0.  0.  0.] [ 1.  0.  0.  0.] \n",
      "##Elem-47--#############################################################\n",
      "[ 1.  0.  0.  0.] [ 1.  0.  0.  0.] [ 1.  0.  0.  0.] [ 1.  0.  0.  0.] [ 1.  0.  0.  0.] \n",
      "##Elem-48--#############################################################\n",
      "[ 1.  0.  0.  0.] [ 1.  0.  0.  0.] [ 1.  0.  0.  0.] [ 1.  0.  0.  0.] [ 1.  0.  0.  0.] \n",
      "##Elem-49--#############################################################\n",
      "[ 1.  0.  0.  0.] [ 1.  0.  0.  0.] [ 1.  0.  0.  0.] [ 1.  0.  0.  0.] [ 1.  0.  0.  0.] \n",
      "##Elem-50--#############################################################\n",
      "[ 1.  0.  0.  0.] [ 1.  0.  0.  0.] [ 1.  0.  0.  0.] [ 1.  0.  0.  0.] [ 1.  0.  0.  0.] \n",
      "##Elem-51--#############################################################\n",
      "[ 1.  0.  0.  0.] [ 1.  0.  0.  0.] [ 1.  0.  0.  0.] [ 1.  0.  0.  0.] [ 1.  0.  0.  0.] \n",
      "##Elem-52--#############################################################\n",
      "[ 1.  0.  0.  0.] [ 1.  0.  0.  0.] [ 1.  0.  0.  0.] [ 1.  0.  0.  0.] [ 1.  0.  0.  0.] \n",
      "##Elem-53--#############################################################\n",
      "[ 1.  0.  0.  0.] [ 1.  0.  0.  0.] [ 1.  0.  0.  0.] [ 1.  0.  0.  0.] [ 1.  0.  0.  0.] \n",
      "##Elem-54--#############################################################\n",
      "[ 1.  0.  0.  0.] [ 1.  0.  0.  0.] [ 1.  0.  0.  0.] [ 1.  0.  0.  0.] [ 1.  0.  0.  0.] \n",
      "##Elem-55--#############################################################\n",
      "[ 1.  0.  0.  0.] [ 1.  0.  0.  0.] [ 1.  0.  0.  0.] [ 1.  0.  0.  0.] [ 1.  0.  0.  0.] \n",
      "##Elem-56--#############################################################\n",
      "[ 1.  0.  0.  0.] [ 1.  0.  0.  0.] [ 1.  0.  0.  0.] [ 1.  0.  0.  0.] [ 1.  0.  0.  0.] \n",
      "##Elem-57--#############################################################\n",
      "[ 1.  0.  0.  0.] [ 1.  0.  0.  0.] [ 1.  0.  0.  0.] [ 1.  0.  0.  0.] [ 1.  0.  0.  0.] \n",
      "##Elem-58--#############################################################\n",
      "[ 1.  0.  0.  0.] [ 1.  0.  0.  0.] [ 1.  0.  0.  0.] [ 1.  0.  0.  0.] [ 1.  0.  0.  0.] \n",
      "##Elem-59--#############################################################\n",
      "[ 1.  0.  0.  0.] [ 1.  0.  0.  0.] [ 1.  0.  0.  0.] [ 1.  0.  0.  0.] [ 1.  0.  0.  0.] \n",
      "##Elem-60--#############################################################\n",
      "[ 1.  0.  0.  0.] [ 1.  0.  0.  0.] [ 1.  0.  0.  0.] [ 1.  0.  0.  0.] [ 1.  0.  0.  0.] \n",
      "##Elem-61--#############################################################\n",
      "[ 1.  0.  0.  0.] [ 1.  0.  0.  0.] [ 1.  0.  0.  0.] [ 1.  0.  0.  0.] [ 1.  0.  0.  0.] \n",
      "##Elem-62--#############################################################\n",
      "[ 1.  0.  0.  0.] [ 1.  0.  0.  0.] [ 1.  0.  0.  0.] [ 1.  0.  0.  0.] [ 1.  0.  0.  0.] \n",
      "##Elem-63--#############################################################\n",
      "[ 1.  0.  0.  0.] [ 1.  0.  0.  0.] [ 1.  0.  0.  0.] [ 1.  0.  0.  0.] [ 1.  0.  0.  0.] \n",
      "##Elem-64--#############################################################\n",
      "[ 1.  0.  0.  0.] [ 1.  0.  0.  0.] [ 1.  0.  0.  0.] [ 1.  0.  0.  0.] [ 1.  0.  0.  0.] \n",
      "##Elem-65--#############################################################\n",
      "[ 1.  0.  0.  0.] [ 1.  0.  0.  0.] [ 1.  0.  0.  0.] [ 1.  0.  0.  0.] [ 1.  0.  0.  0.] \n",
      "##Elem-66--#############################################################\n",
      "[ 1.  0.  0.  0.] [ 1.  0.  0.  0.] [ 1.  0.  0.  0.] [ 1.  0.  0.  0.] [ 1.  0.  0.  0.] \n",
      "##Elem-67--#############################################################\n",
      "[ 1.  0.  0.  0.] [ 1.  0.  0.  0.] [ 1.  0.  0.  0.] [ 1.  0.  0.  0.] [ 1.  0.  0.  0.] \n",
      "##Elem-68--#############################################################\n",
      "[ 1.  0.  0.  0.] [ 1.  0.  0.  0.] [ 1.  0.  0.  0.] [ 1.  0.  0.  0.] [ 1.  0.  0.  0.] \n",
      "##Elem-69--#############################################################\n",
      "[ 1.  0.  0.  0.] [ 1.  0.  0.  0.] [ 1.  0.  0.  0.] [ 1.  0.  0.  0.] [ 1.  0.  0.  0.] \n",
      "##Elem-70--#############################################################\n",
      "[ 1.  0.  0.  0.] [ 1.  0.  0.  0.] [ 1.  0.  0.  0.] [ 1.  0.  0.  0.] [ 1.  0.  0.  0.] \n",
      "##Elem-71--#############################################################\n",
      "[ 1.  0.  0.  0.] [ 1.  0.  0.  0.] [ 1.  0.  0.  0.] [ 1.  0.  0.  0.] [ 1.  0.  0.  0.] \n",
      "##Elem-72--#############################################################\n",
      "[ 1.  0.  0.  0.] [ 1.  0.  0.  0.] [ 1.  0.  0.  0.] [ 1.  0.  0.  0.] [ 1.  0.  0.  0.] \n",
      "##Elem-73--#############################################################\n",
      "[ 1.  0.  0.  0.] [ 1.  0.  0.  0.] [ 1.  0.  0.  0.] [ 1.  0.  0.  0.] [ 1.  0.  0.  0.] \n",
      "##Elem-74--#############################################################\n",
      "[ 1.  0.  0.  0.] [ 1.  0.  0.  0.] [ 1.  0.  0.  0.] [ 1.  0.  0.  0.] [ 1.  0.  0.  0.] \n",
      "##Elem-75--#############################################################\n",
      "[ 1.  0.  0.  0.] [ 1.  0.  0.  0.] [ 1.  0.  0.  0.] [ 1.  0.  0.  0.] [ 1.  0.  0.  0.] \n",
      "##Elem-76--#############################################################\n",
      "[ 1.  0.  0.  0.] [ 1.  0.  0.  0.] [ 1.  0.  0.  0.] [ 1.  0.  0.  0.] [ 1.  0.  0.  0.] \n",
      "##Elem-77--#############################################################\n",
      "[ 1.  0.  0.  0.] [ 1.  0.  0.  0.] [ 1.  0.  0.  0.] [ 1.  0.  0.  0.] [ 1.  0.  0.  0.] \n",
      "##Elem-78--#############################################################\n",
      "[ 1.  0.  0.  0.] [ 1.  0.  0.  0.] [ 1.  0.  0.  0.] [ 1.  0.  0.  0.] [ 1.  0.  0.  0.] \n",
      "##Elem-79--#############################################################\n",
      "[ 1.  0.  0.  0.] [ 1.  0.  0.  0.] [ 1.  0.  0.  0.] [ 1.  0.  0.  0.] [ 1.  0.  0.  0.] \n",
      "##Elem-80--#############################################################\n",
      "[ 1.  0.  0.  0.] [ 1.  0.  0.  0.] [ 1.  0.  0.  0.] [ 1.  0.  0.  0.] [ 1.  0.  0.  0.] \n",
      "##Elem-81--#############################################################\n",
      "[ 1.  0.  0.  0.] [ 1.  0.  0.  0.] [ 1.  0.  0.  0.] [ 1.  0.  0.  0.] [ 1.  0.  0.  0.] \n",
      "##Elem-82--#############################################################\n",
      "[ 1.  0.  0.  0.] [ 1.  0.  0.  0.] [ 1.  0.  0.  0.] [ 1.  0.  0.  0.] [ 1.  0.  0.  0.] \n",
      "##Elem-83--#############################################################\n",
      "[ 1.  0.  0.  0.] [ 1.  0.  0.  0.] [ 1.  0.  0.  0.] [ 1.  0.  0.  0.] [ 1.  0.  0.  0.] \n",
      "##Elem-84--#############################################################\n",
      "[ 1.  0.  0.  0.] [ 1.  0.  0.  0.] [ 1.  0.  0.  0.] [ 1.  0.  0.  0.] [ 1.  0.  0.  0.] \n",
      "##Elem-85--#############################################################\n",
      "[ 1.  0.  0.  0.] [ 1.  0.  0.  0.] [ 1.  0.  0.  0.] [ 1.  0.  0.  0.] [ 1.  0.  0.  0.] \n",
      "##Elem-86--#############################################################\n",
      "[ 1.  0.  0.  0.] [ 1.  0.  0.  0.] [ 1.  0.  0.  0.] [ 1.  0.  0.  0.] [ 1.  0.  0.  0.] \n",
      "##Elem-87--#############################################################\n",
      "[ 1.  0.  0.  0.] [ 1.  0.  0.  0.] [ 1.  0.  0.  0.] [ 1.  0.  0.  0.] [ 1.  0.  0.  0.] \n",
      "##Elem-88--#############################################################\n",
      "[ 1.  0.  0.  0.] [ 1.  0.  0.  0.] [ 1.  0.  0.  0.] [ 1.  0.  0.  0.] [ 1.  0.  0.  0.] \n",
      "##Elem-89--#############################################################\n",
      "[ 1.  0.  0.  0.] [ 1.  0.  0.  0.] [ 1.  0.  0.  0.] [ 1.  0.  0.  0.] [ 1.  0.  0.  0.] \n",
      "##Elem-90--#############################################################\n",
      "[ 1.  0.  0.  0.] [ 1.  0.  0.  0.] [ 1.  0.  0.  0.] [ 1.  0.  0.  0.] [ 1.  0.  0.  0.] \n",
      "##Elem-91--#############################################################\n",
      "[ 1.  0.  0.  0.] [ 1.  0.  0.  0.] [ 1.  0.  0.  0.] [ 1.  0.  0.  0.] [ 1.  0.  0.  0.] \n",
      "##Elem-92--#############################################################\n",
      "[ 1.  0.  0.  0.] [ 1.  0.  0.  0.] [ 1.  0.  0.  0.] [ 1.  0.  0.  0.] [ 1.  0.  0.  0.] \n",
      "##Elem-93--#############################################################\n",
      "[ 1.  0.  0.  0.] [ 1.  0.  0.  0.] [ 1.  0.  0.  0.] [ 1.  0.  0.  0.] [ 1.  0.  0.  0.] \n",
      "##Elem-94--#############################################################\n",
      "[ 1.  0.  0.  0.] [ 1.  0.  0.  0.] [ 1.  0.  0.  0.] [ 1.  0.  0.  0.] [ 1.  0.  0.  0.] \n",
      "##Elem-95--#############################################################\n",
      "[ 1.  0.  0.  0.] [ 1.  0.  0.  0.] [ 1.  0.  0.  0.] [ 1.  0.  0.  0.] [ 1.  0.  0.  0.] \n",
      "##Elem-96--#############################################################\n",
      "[ 1.  0.  0.  0.] [ 1.  0.  0.  0.] [ 1.  0.  0.  0.] [ 1.  0.  0.  0.] [ 1.  0.  0.  0.] \n",
      "##Elem-97--#############################################################\n",
      "[ 1.  0.  0.  0.] [ 1.  0.  0.  0.] [ 1.  0.  0.  0.] [ 1.  0.  0.  0.] [ 1.  0.  0.  0.] \n",
      "##Elem-98--#############################################################\n",
      "[ 1.  0.  0.  0.] [ 1.  0.  0.  0.] [ 1.  0.  0.  0.] [ 1.  0.  0.  0.] [ 1.  0.  0.  0.] \n",
      "##Elem-99--#############################################################\n",
      "[ 1.  0.  0.  0.] [ 1.  0.  0.  0.] [ 1.  0.  0.  0.] [ 1.  0.  0.  0.] [ 1.  0.  0.  0.] "
     ]
    }
   ],
   "source": [
    "print_matrix(res[\"total_loss_traind_train\"][1], res[\"softmaxes_traind_train\"][1])\n",
    "#print_ops_matrix(res[\"total_loss_traind_train\"][1], res[\"softmaxes_traind_train\"][1], cfg[\"used_ops_obj\"])"
   ]
  },
  {
   "cell_type": "code",
   "execution_count": null,
   "metadata": {
    "collapsed": false,
    "deletable": true,
    "editable": true
   },
   "outputs": [],
   "source": [
    "print_matrix(res[\"total_loss_traind_test\"][1], res[\"softmaxes_traind_test\"][1])\n",
    "#print_ops_matrix(res[\"total_loss_traind_train\"][1], res[\"softmaxes_traind_train_mem\"][1], cfg[\"used_ops_obj\"])"
   ]
  },
  {
   "cell_type": "code",
   "execution_count": null,
   "metadata": {
    "collapsed": false,
    "deletable": true,
    "editable": true
   },
   "outputs": [],
   "source": [
    "#print_matrix(res[\"total_loss_traind_train\"][1], res[\"softmaxes_traind_train_mem\"][1])\n",
    "print_ops_matrix(res[\"total_loss_traind_test\"][1], res[\"softmaxes_traind_train_mem\"][1], cfg[\"used_ops_obj\"])"
   ]
  },
  {
   "cell_type": "code",
   "execution_count": null,
   "metadata": {
    "collapsed": false,
    "deletable": true,
    "editable": true
   },
   "outputs": [],
   "source": [
    "print_matrix(res[\"total_loss_traind_train\"][1], res[\"outputs_traind_train_mem\"][1])"
   ]
  },
  {
   "cell_type": "code",
   "execution_count": null,
   "metadata": {
    "collapsed": false,
    "deletable": true,
    "editable": true,
    "scrolled": true
   },
   "outputs": [],
   "source": [
    "res[\"batchesX_train\"][1]"
   ]
  },
  {
   "cell_type": "code",
   "execution_count": null,
   "metadata": {
    "collapsed": false,
    "deletable": true,
    "editable": true,
    "scrolled": false
   },
   "outputs": [],
   "source": [
    "seed = 10000\n",
    "x,y = samples_generator(cfg['train_fn'], (cfg['num_samples'], cfg['num_features']) , cfg['samples_value_rng'], seed)\n",
    "x_train, x_test, y_train, y_test = split_train_test (x, y , cfg['test_ratio'])\n",
    "res = predict_form_sess(model, cfg, x_test[0:100,], last_hardmax_state_train, model_path, mode=\"hard\")"
   ]
  },
  {
   "cell_type": "code",
   "execution_count": null,
   "metadata": {
    "collapsed": false,
    "deletable": true,
    "editable": true,
    "scrolled": true
   },
   "outputs": [],
   "source": [
    "res - y_test[0:100,]"
   ]
  },
  {
   "cell_type": "code",
   "execution_count": null,
   "metadata": {
    "collapsed": false,
    "deletable": true,
    "editable": true,
    "scrolled": true
   },
   "outputs": [],
   "source": [
    "y_test[0:100,]"
   ]
  },
  {
   "cell_type": "code",
   "execution_count": null,
   "metadata": {
    "collapsed": false,
    "deletable": true,
    "editable": true
   },
   "outputs": [],
   "source": [
    "res"
   ]
  },
  {
   "cell_type": "code",
   "execution_count": null,
   "metadata": {
    "collapsed": false,
    "deletable": true,
    "editable": true
   },
   "outputs": [],
   "source": [
    "len(res[\"softmaxes_traind_train\"])"
   ]
  },
  {
   "cell_type": "code",
   "execution_count": null,
   "metadata": {
    "collapsed": true,
    "deletable": true,
    "editable": true
   },
   "outputs": [],
   "source": []
  }
 ],
 "metadata": {
  "kernelspec": {
   "display_name": "Python 3",
   "language": "python",
   "name": "python3"
  },
  "language_info": {
   "codemirror_mode": {
    "name": "ipython",
    "version": 3
   },
   "file_extension": ".py",
   "mimetype": "text/x-python",
   "name": "python",
   "nbconvert_exporter": "python",
   "pygments_lexer": "ipython3",
   "version": "3.4.3"
  }
 },
 "nbformat": 4,
 "nbformat_minor": 2
}
