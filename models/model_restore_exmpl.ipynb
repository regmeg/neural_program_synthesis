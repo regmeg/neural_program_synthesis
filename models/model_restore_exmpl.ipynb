{
 "cells": [
  {
   "cell_type": "code",
   "execution_count": 1,
   "metadata": {
    "collapsed": false,
    "deletable": true,
    "editable": true
   },
   "outputs": [
    {
     "name": "stderr",
     "output_type": "stream",
     "text": [
      "/usr/local/lib/python3.4/dist-packages/tensorflow/python/ops/gradients_impl.py:95: UserWarning: Converting sparse IndexedSlices to a dense Tensor of unknown shape. This may consume a large amount of memory.\n",
      "  \"Converting sparse IndexedSlices to a dense Tensor of unknown shape. \"\n"
     ]
    },
    {
     "name": "stdout",
     "output_type": "stream",
     "text": [
      "norming the grads\n",
      "grads are\n",
      "[(<tf.Tensor 'RNN_mem/clip_by_global_norm/RNN_mem/clip_by_global_norm/_0:0' shape=(204, 200) dtype=float64>, <tf.Variable 'W_mem:0' shape=(204, 200) dtype=float64_ref>), (<tf.Tensor 'RNN_mem/clip_by_global_norm/RNN_mem/clip_by_global_norm/_1:0' shape=(200,) dtype=float64>, <tf.Variable 'RNN_mem/Params/b_mem:0' shape=(200,) dtype=float64_ref>), (<tf.Tensor 'RNN_mem/clip_by_global_norm/RNN_mem/clip_by_global_norm/_2:0' shape=(200, 4) dtype=float64>, <tf.Variable 'W2_mem:0' shape=(200, 4) dtype=float64_ref>), (<tf.Tensor 'RNN_mem/clip_by_global_norm/RNN_mem/clip_by_global_norm/_3:0' shape=(4,) dtype=float64>, <tf.Variable 'RNN_mem/Params/b2_mem:0' shape=(4,) dtype=float64_ref>), (<tf.Tensor 'RNN_mem/clip_by_global_norm/RNN_mem/clip_by_global_norm/_4:0' shape=(4, 4) dtype=float64>, <tf.Variable 'W3_mem:0' shape=(4, 4) dtype=float64_ref>), (<tf.Tensor 'RNN_mem/clip_by_global_norm/RNN_mem/clip_by_global_norm/_5:0' shape=(4,) dtype=float64>, <tf.Variable 'RNN_mem/Params/b3_mem:0' shape=(4,) dtype=float64_ref>)]\n",
      "norming the grads\n",
      "grads are\n",
      "[(<tf.Tensor 'RNN_op/clip_by_global_norm/RNN_op/clip_by_global_norm/_0:0' shape=(204, 200) dtype=float64>, <tf.Variable 'W:0' shape=(204, 200) dtype=float64_ref>), (<tf.Tensor 'RNN_op/clip_by_global_norm/RNN_op/clip_by_global_norm/_1:0' shape=(200,) dtype=float64>, <tf.Variable 'RNN_op/Params/b:0' shape=(200,) dtype=float64_ref>), (<tf.Tensor 'RNN_op/clip_by_global_norm/RNN_op/clip_by_global_norm/_2:0' shape=(200, 5) dtype=float64>, <tf.Variable 'W2:0' shape=(200, 5) dtype=float64_ref>), (<tf.Tensor 'RNN_op/clip_by_global_norm/RNN_op/clip_by_global_norm/_3:0' shape=(5,) dtype=float64>, <tf.Variable 'RNN_op/Params/b2:0' shape=(5,) dtype=float64_ref>), (<tf.Tensor 'RNN_op/clip_by_global_norm/RNN_op/clip_by_global_norm/_4:0' shape=(4, 4) dtype=float64>, <tf.Variable 'W3:0' shape=(4, 4) dtype=float64_ref>), (<tf.Tensor 'RNN_op/clip_by_global_norm/RNN_op/clip_by_global_norm/_5:0' shape=(4,) dtype=float64>, <tf.Variable 'RNN_op/Params/b3:0' shape=(4,) dtype=float64_ref>)]\n",
      "writing grad W_0_grad\n",
      "writing grad RNN_op/Params/b_0_grad\n",
      "writing grad W2_0_grad\n",
      "writing grad RNN_op/Params/b2_0_grad\n",
      "writing grad W3_0_grad\n",
      "writing grad RNN_op/Params/b3_0_grad\n",
      "num batches train: 5\n",
      "num batches test: 2\n",
      "INFO:tensorflow:Restoring parameters from /home/user/neural_program_synthesis/models/summaries/RLRNN/np_avg_val-5ops/state_size_200-num_samples_15-batch_size_2-drop_rate_0.15-learning_rate_0.005-epsilon_0.001-num_features_4-norm_True-clip_False-share_state_True-state_fn_relu-pen_sofmax_False-augument_grad_False-max_reward_1000-seed_406//model/-3975\n"
     ]
    }
   ],
   "source": [
    "import pprint\n",
    "import os\n",
    "import sys\n",
    "import numpy as np\n",
    "from params import get_cfg\n",
    "from rnn_base import RNN\n",
    "from mem_sel_rnn import MemRNN\n",
    "from NoEmbedRNN import OpSel\n",
    "from NoEmbedRNN import MemSel\n",
    "from NoEmbedRNN import RNN as oldRNN\n",
    "from NoEmbedRNN import MemRNN  as oldMemRNN\n",
    "from NoEmbedRNN import HistoryRNN\n",
    "from rl_rnn import RLRNN\n",
    "from rl_rnn_mem import RLRNNMEM\n",
    "from ops import Operations\n",
    "from session import *\n",
    "from data_gen import *\n",
    "import pickle\n",
    "from functools import reduce\n",
    "\n",
    "modelName = 'RLRNN'\n",
    "old = False\n",
    "func = 'np_avg_val-5ops'\n",
    "name = 'state_size_200-num_samples_15-batch_size_2-drop_rate_0.15-learning_rate_0.005-epsilon_0.001-num_features_4-norm_True-clip_False-share_state_True-state_fn_relu-pen_sofmax_False-augument_grad_False-max_reward_1000-seed_406'\n",
    "path = '/home/user/neural_program_synthesis/models/summaries/'+modelName+'/'+func+'/'+name+'/'\n",
    "model_path = path+'/model'\n",
    "#get the global configuration\n",
    "cfg_path = path+'cfg.p'\n",
    "cfg = pickle.load(open(cfg_path, 'rb'))\n",
    "#instantiate containter with the operations avail for the selection\n",
    "ops = Operations(cfg)\n",
    "ops.ops = cfg[\"used_ops_obj\"]\n",
    "ops.num_of_ops = len(ops.ops)\n",
    "#generate data \n",
    "x,y = samples_generator(cfg['train_fn'], (cfg['num_samples'], cfg['num_features']) , cfg['samples_value_rng'], cfg['seed'])\n",
    "x_train, x_test, y_train, y_test = split_train_test (x, y , cfg['test_ratio'])\n",
    "\n",
    "if modelName == \"RNN\":\n",
    "        #instantiante the mem selection RNN\n",
    "        if old: mem = oldMemRNN(cfg, ops)\n",
    "        else:   mem = MemRNN(cfg, ops)\n",
    "        # instanitae the model graph with the main OP selection RNN\n",
    "        if old: model = oldRNN(cfg, ops, mem)\n",
    "        else:   model = RNN(cfg, ops, mem)\n",
    "        res = restore_selection_matrixes2RNNS(model, cfg, x_train, x_test, y_train, y_test, model_path)\n",
    "elif modelName == \"HistoryRNN\":\n",
    "        #instantiante the mem and op selection\n",
    "        mem_sel = MemSel(cfg, ops)\n",
    "        op_sel = OpSel(cfg, ops)\n",
    "        # instanitae the model graph with the main OP selection RNN\n",
    "        model = HistoryRNN(cfg, ops, mem_sel, op_sel)\n",
    "        res = restore_selection_matrixes_HistoryRNNS(model, cfg, x_train, x_test, y_train, y_test, model_path)\n",
    "elif modelName == \"RLRNN\":\n",
    "        ops_env = cfg[\"used_ops_env\"]\n",
    "        mem = RLRNNMEM(cfg, ops_env) \n",
    "        model = RLRNN(cfg, ops_env, mem) \n",
    "        res = restore_selection_RL_RNN(model, cfg, x_train, x_test, y_train, y_test, model_path)"
   ]
  },
  {
   "cell_type": "code",
   "execution_count": 2,
   "metadata": {
    "collapsed": true,
    "deletable": true,
    "editable": true
   },
   "outputs": [],
   "source": [
    "def print_errors(error_lst, name):\n",
    "    print(\"\")\n",
    "    print(\"Total\", reduce((lambda x, y: x + y), error_lst))\n",
    "    for i, error in enumerate(error_lst):\n",
    "        print(name + \"[\" + str(i) + \"] err is \" + str(error))"
   ]
  },
  {
   "cell_type": "code",
   "execution_count": 3,
   "metadata": {
    "collapsed": true,
    "deletable": true,
    "editable": true
   },
   "outputs": [],
   "source": [
    "def print_matrix(total_error, matrix_lst, indeces = None):\n",
    "    np.set_printoptions(precision=3, suppress=True)\n",
    "    print(\"Error for this matrix is\", total_error)\n",
    "    for elem in range(len(matrix_lst[0])):\n",
    "        if indeces is not None and elem not in indeces: continue \n",
    "        print(\"\\n##Elem-\"+str(elem)+\"--#############################################################\")        \n",
    "        for matrix in matrix_lst:\n",
    "            print(matrix[elem], end=\" \")\n",
    "    print(\"\")"
   ]
  },
  {
   "cell_type": "code",
   "execution_count": 12,
   "metadata": {
    "collapsed": true,
    "deletable": true,
    "editable": true
   },
   "outputs": [],
   "source": [
    "def print_ops_matrix(total_error, matrix_lst, ops_list, indeces = None):\n",
    "    np.set_printoptions(precision=3, suppress=True)\n",
    "    print(\"Error for this matrix is\", total_error)\n",
    "    for elem in range(len(matrix_lst[0])):\n",
    "        if indeces is not None and elem not in indeces: continue \n",
    "        print(\"\\n##Elem-\"+str(elem)+\"--#############################################################\")        \n",
    "        for matrix in matrix_lst:\n",
    "            index = np.argmax(matrix[elem])\n",
    "            if len(matrix[elem]) < 2:\n",
    "                index = matrix[elem][0]\n",
    "            op_name = ops_list[index].__name__\n",
    "            print(\"[ \"+op_name+\" ]\", end=\" \")\n",
    "    print(\"\")"
   ]
  },
  {
   "cell_type": "code",
   "execution_count": 13,
   "metadata": {
    "collapsed": false,
    "deletable": true,
    "editable": true
   },
   "outputs": [
    {
     "name": "stdout",
     "output_type": "stream",
     "text": [
      "\n",
      "Total 738.11250575\n",
      "train_math_error[0] err is 248.760620417\n",
      "train_math_error[1] err is 138.01569292\n",
      "train_math_error[2] err is 145.058057079\n",
      "train_math_error[3] err is 65.9453990686\n",
      "train_math_error[4] err is 140.332736266\n",
      "\n",
      "Total 419483.911508\n",
      "test_math_error[0] err is 57.8017314476\n",
      "test_math_error[1] err is 419426.109777\n"
     ]
    }
   ],
   "source": [
    "#print_errors(res[\"total_loss_traind_train\"], \"sofmax_train_error\")\n",
    "#print_errors(res[\"total_loss_traind_test\"], \"hardmax_train_error\")\n",
    "#print_errors(res[\"total_loss_testd_train\"], \"softmax_test_error\")\n",
    "#print_errors(res[\"total_loss_testd_test\"], \"hardmax_test_error\")\n",
    "\n",
    "print_errors(res[\"train_math_error\"], \"train_math_error\")\n",
    "print_errors(res[\"test_math_error\"], \"test_math_error\")"
   ]
  },
  {
   "cell_type": "code",
   "execution_count": 16,
   "metadata": {
    "collapsed": false,
    "deletable": true,
    "editable": true,
    "scrolled": true
   },
   "outputs": [
    {
     "name": "stdout",
     "output_type": "stream",
     "text": [
      "Error for this matrix is 248.760620417\n",
      "\n",
      "##Elem-0--#############################################################\n",
      "[4] [0] [2] [0] [2] \n",
      "##Elem-1--#############################################################\n",
      "[3] [0] [2] [1] [1] \n",
      "Error for this matrix is 248.760620417\n",
      "\n",
      "##Elem-0--#############################################################\n",
      "[ np_sub_env ] [ np_add_env ] [ np_get_size_env ] [ np_add_env ] [ np_get_size_env ] \n",
      "##Elem-1--#############################################################\n",
      "[ np_div_env ] [ np_add_env ] [ np_get_size_env ] [ np_mult_env ] [ np_mult_env ] \n"
     ]
    }
   ],
   "source": [
    "#Softmax Hardmax Print\n",
    "#print_matrix(res[\"total_loss_traind_train\"][0], res[\"softmaxes_traind_train\"][0])\n",
    "#print_ops_matrix(res[\"total_loss_testd_test\"][0], res[\"softmaxes_testd_test\"][0], cfg[\"used_ops_obj\"])\n",
    "\n",
    "##RL print - train OP selections\n",
    "print_matrix(res[\"train_math_error\"][0], res[\"train_selections\"][0])\n",
    "print_ops_matrix(res[\"train_math_error\"][0], res[\"train_selections\"][0], cfg[\"used_ops_env\"].ops)"
   ]
  },
  {
   "cell_type": "code",
   "execution_count": 23,
   "metadata": {
    "collapsed": false,
    "deletable": true,
    "editable": true
   },
   "outputs": [
    {
     "name": "stdout",
     "output_type": "stream",
     "text": [
      "Error for this matrix is 248.760620417\n",
      "\n",
      "##Elem-0--#############################################################\n",
      "[1] [0] [0] [1] [1] \n",
      "##Elem-1--#############################################################\n",
      "[0] [3] [1] [1] [1] \n",
      "Error for this matrix is 248.760620417\n",
      "\n",
      "##Elem-0--#############################################################\n",
      "[ np_mult_env ] [ np_add_env ] [ np_add_env ] [ np_mult_env ] [ np_mult_env ] \n",
      "##Elem-1--#############################################################\n",
      "[ np_add_env ] [ np_stall_env ] [ np_mult_env ] [ np_mult_env ] [ np_mult_env ] \n"
     ]
    }
   ],
   "source": [
    "#Softmax Hardmax Print\n",
    "\n",
    "#print_matrix(res[\"total_loss_traind_test\"][1], res[\"softmaxes_traind_test\"][1])\n",
    "#print_ops_matrix(res[\"total_loss_testd_test\"][0], res[\"softmaxes_testd_test_mem\"][0], cfg[\"used_ops_obj\"])\n",
    "\n",
    "##RL print - train MEM selections\n",
    "print_matrix(res[\"train_math_error\"][0], res[\"train_selections_mem\"][0])\n",
    "print_ops_matrix(res[\"train_math_error\"][0], res[\"train_selections_mem\"][0], cfg[\"used_ops_env\"].ops_mem)"
   ]
  },
  {
   "cell_type": "code",
   "execution_count": 19,
   "metadata": {
    "collapsed": false
   },
   "outputs": [
    {
     "name": "stdout",
     "output_type": "stream",
     "text": [
      "Error for this matrix is 248.760620417\n",
      "\n",
      "##Elem-0--#############################################################\n",
      "[4] [0] [0] [2] [0] \n",
      "##Elem-1--#############################################################\n",
      "[3] [0] [2] [0] [2] \n",
      "Error for this matrix is 248.760620417\n",
      "\n",
      "##Elem-0--#############################################################\n",
      "[ np_sub_env ] [ np_add_env ] [ np_add_env ] [ np_get_size_env ] [ np_add_env ] \n",
      "##Elem-1--#############################################################\n",
      "[ np_div_env ] [ np_add_env ] [ np_get_size_env ] [ np_add_env ] [ np_get_size_env ] \n"
     ]
    }
   ],
   "source": [
    "##RL print - test OP selections\n",
    "print_matrix(res[\"test_math_error\"][0], res[\"test_selections\"][0])\n",
    "print_ops_matrix(res[\"test_math_error\"][0], res[\"test_selections\"][0], cfg[\"used_ops_env\"].ops)"
   ]
  },
  {
   "cell_type": "code",
   "execution_count": 22,
   "metadata": {
    "collapsed": false
   },
   "outputs": [
    {
     "name": "stdout",
     "output_type": "stream",
     "text": [
      "Error for this matrix is 57.8017314476\n",
      "\n",
      "##Elem-0--#############################################################\n",
      "[3] [0] [3] [1] [1] \n",
      "##Elem-1--#############################################################\n",
      "[0] [3] [1] [1] [1] \n",
      "Error for this matrix is 57.8017314476\n",
      "\n",
      "##Elem-0--#############################################################\n",
      "[ np_stall_env ] [ np_add_env ] [ np_stall_env ] [ np_mult_env ] [ np_mult_env ] \n",
      "##Elem-1--#############################################################\n",
      "[ np_add_env ] [ np_stall_env ] [ np_mult_env ] [ np_mult_env ] [ np_mult_env ] \n"
     ]
    }
   ],
   "source": [
    "##RL print - test MEM selections\n",
    "print_matrix(res[\"test_math_error\"][0], res[\"test_selections_mem\"][0])\n",
    "print_ops_matrix(res[\"test_math_error\"][0], res[\"test_selections_mem\"][0], cfg[\"used_ops_env\"].ops_mem)"
   ]
  },
  {
   "cell_type": "code",
   "execution_count": null,
   "metadata": {
    "collapsed": true,
    "deletable": true,
    "editable": true
   },
   "outputs": [],
   "source": [
    "print_matrix(res[\"total_loss_testd_test\"][0], res[\"outputs_testd_train\"][0])"
   ]
  },
  {
   "cell_type": "code",
   "execution_count": null,
   "metadata": {
    "collapsed": true,
    "deletable": true,
    "editable": true
   },
   "outputs": [],
   "source": [
    "wrong_res = np.nonzero(np.round(np.apply_along_axis(np_add, 1, res[\"outputs_testd_train\"][0][4] - res[\"batchesY_test\"][0]), 2))[0]\n",
    "wrong_res "
   ]
  },
  {
   "cell_type": "code",
   "execution_count": null,
   "metadata": {
    "collapsed": true,
    "deletable": true,
    "editable": true
   },
   "outputs": [],
   "source": [
    "print_ops_matrix(res[\"total_loss_testd_test\"][0], res[\"softmaxes_testd_test\"][0], cfg[\"used_ops_obj\"], wrong_res)"
   ]
  },
  {
   "cell_type": "code",
   "execution_count": null,
   "metadata": {
    "collapsed": true,
    "deletable": true,
    "editable": true
   },
   "outputs": [],
   "source": [
    "print_ops_matrix(res[\"total_loss_testd_test\"][0], res[\"softmaxes_testd_test_mem\"][0], cfg[\"used_ops_obj\"], wrong_res)"
   ]
  },
  {
   "cell_type": "code",
   "execution_count": null,
   "metadata": {
    "collapsed": true,
    "deletable": true,
    "editable": true
   },
   "outputs": [],
   "source": [
    "#print_matrix(res[\"total_loss_traind_train\"][1], res[\"softmaxes_traind_train_mem\"][1])\n",
    "print_ops_matrix(res[\"total_loss_testd_test\"][0], res[\"softmaxes_testd_test_mem\"][0], cfg[\"used_ops_obj\"])"
   ]
  },
  {
   "cell_type": "code",
   "execution_count": null,
   "metadata": {
    "collapsed": true,
    "deletable": true,
    "editable": true
   },
   "outputs": [],
   "source": [
    "print_matrix(res[\"total_loss_testd_test\"][0], res[\"outputs_testd_test_mem\"][0])"
   ]
  },
  {
   "cell_type": "code",
   "execution_count": null,
   "metadata": {
    "collapsed": true,
    "deletable": true,
    "editable": true,
    "scrolled": true
   },
   "outputs": [],
   "source": [
    "res['last_hardmax_state_train_mem']"
   ]
  },
  {
   "cell_type": "code",
   "execution_count": null,
   "metadata": {
    "collapsed": true,
    "deletable": true,
    "editable": true
   },
   "outputs": [],
   "source": [
    "cfg['num_features']"
   ]
  },
  {
   "cell_type": "code",
   "execution_count": null,
   "metadata": {
    "collapsed": false,
    "deletable": true,
    "editable": true,
    "scrolled": false
   },
   "outputs": [],
   "source": [
    "seed = 10000\n",
    "x,y = samples_generator(cfg['train_fn'], (cfg['num_samples'], cfg['num_features']) , cfg['samples_value_rng'], seed)\n",
    "x_train, x_test, y_train, y_test = split_train_test (x, y , cfg['test_ratio'])\n",
    "res_pred = predict_form_sess(model, cfg, x_test[0:100,], res['last_hardmax_state_train'],res['last_hardmax_state_train_mem'], path = model_path, mode=\"hard\")"
   ]
  },
  {
   "cell_type": "code",
   "execution_count": null,
   "metadata": {
    "collapsed": false,
    "deletable": true,
    "editable": true,
    "scrolled": true
   },
   "outputs": [],
   "source": [
    "res_pred"
   ]
  },
  {
   "cell_type": "code",
   "execution_count": null,
   "metadata": {
    "collapsed": false,
    "deletable": true,
    "editable": true,
    "scrolled": true
   },
   "outputs": [],
   "source": [
    "x_test[0:100,]"
   ]
  },
  {
   "cell_type": "code",
   "execution_count": null,
   "metadata": {
    "collapsed": true,
    "deletable": true,
    "editable": true
   },
   "outputs": [],
   "source": [
    "res_pred"
   ]
  },
  {
   "cell_type": "code",
   "execution_count": null,
   "metadata": {
    "collapsed": true,
    "deletable": true,
    "editable": true
   },
   "outputs": [],
   "source": [
    "len(res[\"softmaxes_traind_train\"])"
   ]
  },
  {
   "cell_type": "code",
   "execution_count": null,
   "metadata": {
    "collapsed": true,
    "deletable": true,
    "editable": true
   },
   "outputs": [],
   "source": []
  }
 ],
 "metadata": {
  "kernelspec": {
   "display_name": "Python 3",
   "language": "python",
   "name": "python3"
  },
  "language_info": {
   "codemirror_mode": {
    "name": "ipython",
    "version": 3
   },
   "file_extension": ".py",
   "mimetype": "text/x-python",
   "name": "python",
   "nbconvert_exporter": "python",
   "pygments_lexer": "ipython3",
   "version": "3.4.3"
  }
 },
 "nbformat": 4,
 "nbformat_minor": 2
}
