{
 "cells": [
  {
   "cell_type": "code",
   "execution_count": 29,
   "metadata": {
    "collapsed": false,
    "deletable": true,
    "editable": true
   },
   "outputs": [],
   "source": [
    "import numpy as np\n",
    "\n",
    "def apply_adam(w, grad, epsilon, beta1, beta2, alpha, step, m ,v):\n",
    "  print(\"w\")\n",
    "  print(w)\n",
    "\n",
    "  beta1_pow = beta1**step\n",
    "  beta2_pow = beta2**step\n",
    "  print(\"beta1_pow\", beta1_pow)\n",
    "  print(\"beta2_pow\", beta2_pow)\n",
    "    \n",
    "  lr_t = alpha * np.sqrt(1 - beta2_pow) / (1 - beta1_pow)\n",
    "  print(\"lr_t\")\n",
    "  print(lr_t)\n",
    "\n",
    "  m_t = beta1 * m + (1 - beta1) * grad\n",
    "  v_t = beta2 * v + (1 - beta2) * grad * grad\n",
    "  print(\"m_t\")\n",
    "  print(m_t)\n",
    "  print(\"v_t\")\n",
    "  print(v_t)\n",
    "    \n",
    "    \n",
    "  w = w - lr_t * m_t / (np.sqrt(v_t) + epsilon)\n",
    "  print(\"updated w\")\n",
    "  print(w)\n"
   ]
  },
  {
   "cell_type": "code",
   "execution_count": 30,
   "metadata": {
    "collapsed": true,
    "deletable": true,
    "editable": true
   },
   "outputs": [],
   "source": [
    "grads = np.array([[ 8.23268989e+20, 1.66774029e+20, -9.90043195e+20],\n",
    "                  [ 8.23268989e+20, 1.66774029e+20, -9.90043195e+20],\n",
    "                  [ 8.23268989e+20, 1.66774029e+20, -9.90043195e+20],\n",
    "                  [ 8.23268989e+20, 1.66774029e+20, -9.90043195e+20]], dtype='float32')\n",
    "\n",
    "'''\n",
    "grads =  [  8.23268989e+20,   1.66774029e+20,  -9.90043195e+20],\n",
    "betta1 = array(0.8999999761581421, dtype=float32)\n",
    "betta2 = array(0.9990000128746033, dtype=float32)\n",
    "betta1_power = array(0.8999999761581421, dtype=float32)\n",
    "betta2_power = array(0.9990000128746033, dtype=float32)\n",
    "aplha   = array(0.10000000149011612, dtype=float32)\n",
    "epsilon = array(9.99999993922529e-09, dtype=float32)\n",
    "'''\n",
    "\n",
    "epsilon = 9.99999993922529e-09\n",
    "beta1 =  0.8999999761581421\n",
    "beta2 = 0.9990000128746033\n",
    "alpha = 0.10000000149011612\n",
    "\n",
    "step=1\n",
    "\n",
    "m=np.array([[ 0., 0., 0.],\n",
    "            [ 0., 0., 0.],\n",
    "            [ 0., 0., 0.],\n",
    "            [ 0., 0., 0.]] , dtype='float32')\n",
    "\n",
    "v=np.array([[ 0., 0., 0.],\n",
    "            [ 0., 0., 0.],\n",
    "            [ 0., 0., 0.],\n",
    "            [ 0., 0., 0.]] , dtype='float32')\n",
    "\n",
    "\n",
    "w=np.array([[0.02393387,  -0.14345245, 0.01437346 ],\n",
    "            [-0.14084348, 0.02052397, -0.11966531 ],\n",
    "            [-0.13571154, -0.04231506, -0.21629484],\n",
    "            [-0.10692006, 0.0168522,   -0.0307635 ]] , dtype='float32')\n",
    "\n",
    "\n"
   ]
  },
  {
   "cell_type": "code",
   "execution_count": 31,
   "metadata": {
    "collapsed": false,
    "deletable": true,
    "editable": true
   },
   "outputs": [
    {
     "name": "stdout",
     "output_type": "stream",
     "text": [
      "w\n",
      "[[ 0.02393387 -0.14345245  0.01437346]\n",
      " [-0.14084348  0.02052397 -0.11966531]\n",
      " [-0.13571154 -0.04231506 -0.21629484]\n",
      " [-0.10692006  0.0168522  -0.0307635 ]]\n",
      "beta1_pow 0.8999999761581421\n",
      "beta2_pow 0.9990000128746033\n",
      "lr_t\n",
      "0.0316225659675\n",
      "m_t\n",
      "[[  8.23269183e+19   1.66774067e+19  -9.90043458e+19]\n",
      " [  8.23269183e+19   1.66774067e+19  -9.90043458e+19]\n",
      " [  8.23269183e+19   1.66774067e+19  -9.90043458e+19]\n",
      " [  8.23269183e+19   1.66774067e+19  -9.90043458e+19]]\n",
      "v_t\n",
      "[[             inf   2.78132176e+37              inf]\n",
      " [             inf   2.78132176e+37              inf]\n",
      " [             inf   2.78132176e+37              inf]\n",
      " [             inf   2.78132176e+37              inf]]\n",
      "updated w\n",
      "[[ 0.02393387 -0.24345246  0.01437346]\n",
      " [-0.14084348 -0.07947603 -0.11966531]\n",
      " [-0.13571154 -0.14231506 -0.21629484]\n",
      " [-0.10692006 -0.0831478  -0.0307635 ]]\n"
     ]
    },
    {
     "name": "stderr",
     "output_type": "stream",
     "text": [
      "/usr/local/lib/python3.4/dist-packages/ipykernel/__main__.py:17: RuntimeWarning: overflow encountered in multiply\n"
     ]
    }
   ],
   "source": [
    "apply_adam(w, grads, epsilon, beta1, beta2, alpha, step, m ,v)\n"
   ]
  },
  {
   "cell_type": "code",
   "execution_count": 7,
   "metadata": {
    "collapsed": false,
    "deletable": true,
    "editable": true
   },
   "outputs": [
    {
     "ename": "TypeError",
     "evalue": "only length-1 arrays can be converted to Python scalars",
     "output_type": "error",
     "traceback": [
      "\u001b[0;31m---------------------------------------------------------------------------\u001b[0m",
      "\u001b[0;31mTypeError\u001b[0m                                 Traceback (most recent call last)",
      "\u001b[0;32m<ipython-input-7-aa45de77c891>\u001b[0m in \u001b[0;36m<module>\u001b[0;34m()\u001b[0m\n\u001b[0;32m----> 1\u001b[0;31m \u001b[0msqrt\u001b[0m\u001b[0;34m(\u001b[0m\u001b[0mv\u001b[0m\u001b[0;34m)\u001b[0m \u001b[0;34m+\u001b[0m \u001b[0mepsilon\u001b[0m\u001b[0;34m\u001b[0m\u001b[0m\n\u001b[0m",
      "\u001b[0;31mTypeError\u001b[0m: only length-1 arrays can be converted to Python scalars"
     ]
    }
   ],
   "source": [
    "sqrt(v) + epsilon"
   ]
  },
  {
   "cell_type": "code",
   "execution_count": null,
   "metadata": {
    "collapsed": true,
    "deletable": true,
    "editable": true
   },
   "outputs": [],
   "source": []
  }
 ],
 "metadata": {
  "kernelspec": {
   "display_name": "Python 3",
   "language": "python",
   "name": "python3"
  },
  "language_info": {
   "codemirror_mode": {
    "name": "ipython",
    "version": 3
   },
   "file_extension": ".py",
   "mimetype": "text/x-python",
   "name": "python",
   "nbconvert_exporter": "python",
   "pygments_lexer": "ipython3",
   "version": "3.4.3"
  }
 },
 "nbformat": 4,
 "nbformat_minor": 2
}
